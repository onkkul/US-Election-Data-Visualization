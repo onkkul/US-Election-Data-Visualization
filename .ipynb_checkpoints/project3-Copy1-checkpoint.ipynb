{
 "cells": [
  {
   "cell_type": "code",
   "execution_count": 1,
   "metadata": {},
   "outputs": [],
   "source": [
    "# -*- coding: utf-8 -*-\n",
    "\"\"\"\n",
    "Created on Thu Nov 12 13:09:02 2020\n",
    "\n",
    "@author: Onkar Kulkarni\n",
    "\"\"\"\n",
    "\n",
    "import json\n",
    "import numpy as np\n",
    "import pandas as pd\n",
    "import seaborn as sns\n",
    "\n",
    "\n",
    "from os import listdir\n",
    "from os.path import isfile, join, dirname, realpath\n",
    "\n",
    "from pymongo import MongoClient\n",
    "\n",
    "from collections import OrderedDict\n",
    "\n",
    "from matplotlib import pyplot as plt\n",
    "from ipywidgets import widgets, interactive, interact, HBox, Layout,VBox\n",
    "\n",
    "import plotly.io as pio\n",
    "import plotly.express as px\n",
    "import plotly.graph_objects as go\n",
    "from plotly.subplots import make_subplots\n"
   ]
  },
  {
   "cell_type": "code",
   "execution_count": 2,
   "metadata": {},
   "outputs": [],
   "source": [
    "\n",
    "client = MongoClient()\n",
    "database=client.Project3\n",
    "\n",
    "pwd = dirname(realpath('__file__'))\n",
    "datapath = pwd + '\\ archive'.replace(' ', '')\n",
    "\n",
    "collections = [file for file in listdir(datapath) if isfile(join(datapath, file))]\n",
    "\n",
    "# # delete collections command\n",
    "# all_collections = database.list_collection_names()\n",
    "# for collect in all_collections:\n",
    "#     if collect != 'z_admin':\n",
    "#         database[f'{collect}'].drop()\n"
   ]
  },
  {
   "cell_type": "code",
   "execution_count": 3,
   "metadata": {},
   "outputs": [],
   "source": [
    "\n",
    "for file in collections:\n",
    "    dataframe = pd.read_csv(join(datapath, file))\n",
    "    dataframe = dataframe.rename(columns={\"votes\": \"total_votes\"}, errors='ignore')\n",
    "    dataframe = dataframe.rename(columns={\"State\": \"state\"}, errors='ignore')\n",
    "    dataframe = dataframe.rename(columns={\"County\": \"county\"}, errors='ignore')\n",
    "    json_dump = dataframe.to_dict(orient='records')\n",
    "    # dataframe.to_json(file.replace('.csv', '.json'), orient='records')\n",
    "\n",
    "    database[file.replace('.csv', '')].drop()\n",
    "    database[file.replace('.csv', '')].insert_many(json_dump)\n",
    "    \n",
    "    del[json_dump]\n"
   ]
  },
  {
   "cell_type": "markdown",
   "metadata": {},
   "source": [
    "# Graph 1: Show Party wise votes for election in a county/state"
   ]
  },
  {
   "cell_type": "code",
   "execution_count": 4,
   "metadata": {},
   "outputs": [],
   "source": [
    "############################# Backend Queries #############################\n",
    "\n",
    "indexes = {\"President\":database.president_county, \n",
    "           \"Governors\":database.governors_county, \n",
    "           \"Senate\":database.senate_county }\n",
    "\n",
    "databases = {\"President\":database.president_county_candidate, \n",
    "             \"Governors\":database.governors_county_candidate, \n",
    "             \"Senate\":database.senate_county_candidate}\n",
    "\n",
    "#----------------------------------------------------\n",
    "def country_trend(collection):\n",
    "    documents = collection.aggregate([\n",
    "        {'$group':{'_id':'$party', 'votes':{'$sum':'$total_votes'}}},\n",
    "        {'$sort': OrderedDict([('votes', -1), ('_id', -1)])}\n",
    "    ])\n",
    "    return documents\n",
    "def single_state_trend(collection, state):\n",
    "    documents = collection.aggregate([\n",
    "        {'$match':{'state':state}},\n",
    "        {'$group':{'_id':'$party', 'votes':{'$sum':'$total_votes'}}},\n",
    "        {'$sort': OrderedDict([('votes', -1), ('_id', -1)])}\n",
    "    ])\n",
    "    return documents\n",
    "def single_county_trend(collection, state, county):\n",
    "    documents = collection.aggregate([\n",
    "        {'$match':{'state':state, 'county':county}},\n",
    "        {'$group':{'_id':'$party', 'votes':{'$sum':'$total_votes'}}},\n",
    "        {'$sort': OrderedDict([('votes', -1), ('_id', -1)])}\n",
    "    ])\n",
    "    return documents\n"
   ]
  },
  {
   "cell_type": "code",
   "execution_count": 5,
   "metadata": {},
   "outputs": [],
   "source": [
    "############################# UI ELEMENTS #############################\n",
    "\n",
    "county = widgets.Dropdown(options=['Select'], description='County')\n",
    "\n",
    "#----------------------------------------------------\n",
    "state = widgets.Dropdown(options=['Select'], description='State')\n",
    "\n",
    "def state_change_handler(change):\n",
    "    if change['new'] == 'Select':\n",
    "        return\n",
    "    collection = indexes[UI.children[0].value]\n",
    "    county.options = ['Select', 'All',] + collection.distinct('county', {'state':change['new']}) \n",
    "\n",
    "state.observe(state_change_handler, names='value')\n",
    "#----------------------------------------------------\n",
    "\n",
    "election = widgets.Dropdown(options=['Select']+list(indexes.keys()),description='ElectType:')\n",
    "\n",
    "def election_change_handler(change):\n",
    "    if change['new'] == 'Select':\n",
    "        return\n",
    "    collection = indexes[change['new']]\n",
    "    state.options = ['Select', 'All',] + collection.distinct('state')\n",
    "    county.options = ['Select', 'All',] + collection.distinct('county', {'state':UI.children[1].value})\n",
    "    \n",
    "election.observe(election_change_handler, names='value')\n"
   ]
  },
  {
   "cell_type": "code",
   "execution_count": 12,
   "metadata": {},
   "outputs": [],
   "source": [
    "\n",
    "############################# IMAGE PLOT ELEMENTS #############################\n",
    "def get_figure(x, y, figure_type, title):\n",
    "    colors = px.colors.qualitative.Alphabet[0:len(x)]\n",
    "    fig = make_subplots(rows=1, cols=2, specs=[[{\"type\": \"pie\"}, {\"type\": \"bar\"}]])\n",
    "\n",
    "    fig.add_trace(go.Pie(labels=x, values=y, marker=dict(colors=colors)), row=1, col=1)\n",
    "    fig.add_trace(go.Bar(x=x, y=y, marker=dict(color=colors)), row=1, col=2)\n",
    "    return fig"
   ]
  },
  {
   "cell_type": "code",
   "execution_count": 13,
   "metadata": {
    "scrolled": true
   },
   "outputs": [
    {
     "data": {
      "application/vnd.jupyter.widget-view+json": {
       "model_id": "20ba274ee64f459f8dbdc0b30d340c5a",
       "version_major": 2,
       "version_minor": 0
      },
      "text/plain": [
       "interactive(children=(Dropdown(description='ElectType:', index=1, options=('Select', 'President', 'Governors',…"
      ]
     },
     "metadata": {},
     "output_type": "display_data"
    }
   ],
   "source": [
    "############################# MAIN PLOT #############################\n",
    "\n",
    "def plotit(election, state, county):\n",
    "    if election == 'Select':\n",
    "        return\n",
    "\n",
    "    collection = databases[election]\n",
    "    if state == 'All':\n",
    "        documents = country_trend(collection)\n",
    "        title = f'Party-Wise votes for {election} in {state}'\n",
    "    elif county == 'All':\n",
    "        documents = single_state_trend(collection, state)\n",
    "        title = f'Party-Wise votes for {election} in {state}'\n",
    "    else:\n",
    "        documents = single_county_trend(collection, state, county)\n",
    "        title = f'Party-Wise votes for {election} in {county}, {state}'\n",
    "        \n",
    "    x, y = [], []\n",
    "    for doc in documents:\n",
    "        x.append(doc['_id'])\n",
    "        y.append(doc['votes']) \n",
    "        \n",
    "    fig = get_figure(x, y, 'bar', title)\n",
    "    fig.show()\n",
    "    \n",
    "UI = interactive(plotit, election=election, state=state, county=county)\n",
    "controls = HBox(UI.children[:-1], layout = Layout(flex_flow='row wrap'))\n",
    "output = UI.children[-1]\n",
    "display(VBox([controls, output]))\n"
   ]
  },
  {
   "cell_type": "code",
   "execution_count": null,
   "metadata": {},
   "outputs": [],
   "source": []
  },
  {
   "cell_type": "code",
   "execution_count": null,
   "metadata": {},
   "outputs": [],
   "source": []
  },
  {
   "cell_type": "markdown",
   "metadata": {},
   "source": [
    "# Party vs Diversity Map"
   ]
  },
  {
   "cell_type": "code",
   "execution_count": 11,
   "metadata": {},
   "outputs": [],
   "source": [
    "############################# UI ELEMENTS #############################\n",
    "\n",
    "county = widgets.Dropdown(options=['Select'], description='County')\n",
    "\n",
    "#----------------------------------------------------\n",
    "state = widgets.Dropdown(options=['Select'], description='State')\n",
    "\n",
    "def state_change_handler(change):\n",
    "    if change['new'] == 'Select':\n",
    "        return\n",
    "    collection = indexes[UI.children[0].value]\n",
    "    county.options = ['Select', 'All',] + collection.distinct('county', {'state':change['new']}) \n",
    "\n",
    "state.observe(state_change_handler, names='value')\n",
    "#----------------------------------------------------\n",
    "\n",
    "election = widgets.Dropdown(options=['Select']+list(indexes.keys()),description='ElectType:')\n",
    "\n",
    "def election_change_handler(change):\n",
    "    if change['new'] == 'Select':\n",
    "        return\n",
    "    collection = indexes[change['new']]\n",
    "    state.options = ['Select', 'All',] + collection.distinct('state')\n",
    "    county.options = ['Select', 'All',] + collection.distinct('county', {'state':UI.children[1].value})\n",
    "    \n",
    "election.observe(election_change_handler, names='value')\n",
    "\n"
   ]
  },
  {
   "cell_type": "code",
   "execution_count": 14,
   "metadata": {},
   "outputs": [],
   "source": [
    "############################# BACKEND ELEMENTS #############################\n",
    "def get_diversity_county(state, county, collection):\n",
    "    documents = collection.aggregate([\n",
    "        {'$match':{'state':state, 'county':county}},\n",
    "        {'$group':{'_id':'$party', 'votes':{'$sum':'$total_votes'}}},\n",
    "        {'$lookup':{\n",
    "            'from': \"census_2017\",\n",
    "            'let': {'election_state': state, 'election_county': county},\n",
    "            'pipeline':[\n",
    "                {'$match':\n",
    "                    { '$expr':\n",
    "                        { '$and':[\n",
    "                            { '$eq': [ \"$state\",  \"$$election_state\" ] },\n",
    "                            { '$eq': [ \"$county\", \"$$election_county\" ] }\n",
    "                        ]}\n",
    "                    }\n",
    "                },\n",
    "                {'$group':{\n",
    "                    '_id':'Diversity',\n",
    "                    \"White\" : {'$sum' :\"$White\"}}},\n",
    "                {'$project':{'_id':{'$subtract':[100,\"$White\"]}}},\n",
    "                {'$sort': OrderedDict([('_id', -1)])},\n",
    "            ],\n",
    "            \"as\":\"Diversity\"\n",
    "        }}\n",
    "    ])\n",
    "    return documents\n",
    "\n",
    "def get_diversity_state(state, collection):\n",
    "    documents = collection.aggregate([\n",
    "        {'$match':{'state':state}},\n",
    "        {'$group':{'_id':'$party', 'votes':{'$sum':'$total_votes'}}},\n",
    "        {'$lookup':{\n",
    "            'from': \"census_2017\",\n",
    "            'let': {'election_state': state},\n",
    "            'pipeline':[\n",
    "                {'$match':{'$expr':{ '$eq': [ \"$state\",  \"$$election_state\" ] }}},\n",
    "                {'$group':{\n",
    "                    '_id':'Diversity',\n",
    "                    'Count' : {'$sum':1},\n",
    "                    \"White\" : {'$sum' :\"$White\"}}},\n",
    "                {'$project':{'_id':{'$divide':[{'$subtract':[{\"$multiply\":[\"$Count\", 100]},\"$White\"]}, 100]}}},\n",
    "                {'$sort': OrderedDict([('_id', -1)])},\n",
    "            ],\n",
    "            \"as\":\"Diversity\"\n",
    "        }}\n",
    "    ])\n",
    "    return documents"
   ]
  },
  {
   "cell_type": "code",
   "execution_count": 17,
   "metadata": {},
   "outputs": [],
   "source": [
    "\n",
    "def get_diversity_figure(result, query_type):\n",
    "    fig = make_subplots(rows=3, cols=1, \n",
    "                        shared_xaxes=True, \n",
    "                        vertical_spacing=0.02,\n",
    "                       subplot_titles=['Diversity', 'Republican', 'Democrat'])\n",
    "\n",
    "    fig.add_trace(go.Scatter(x=result.index, y=result['diversity']),\n",
    "                  row=3, col=1)\n",
    "\n",
    "    fig.add_trace(go.Scatter(x=result.index, y=result['REP']),\n",
    "                  row=2, col=1)\n",
    "\n",
    "    fig.add_trace(go.Scatter(x=result.index, y=result['DEM']),\n",
    "                  row=1, col=1)\n",
    "\n",
    "    fig.update_layout(height=400, width=600,\n",
    "                      title_text=\"Racial Diversity-Vote Comparison\", showlegend=False)\n",
    "    return fig"
   ]
  },
  {
   "cell_type": "code",
   "execution_count": 18,
   "metadata": {
    "scrolled": true
   },
   "outputs": [
    {
     "data": {
      "application/vnd.jupyter.widget-view+json": {
       "model_id": "8c811b9705fb41849ee6684c03ffb63e",
       "version_major": 2,
       "version_minor": 0
      },
      "text/plain": [
       "interactive(children=(Dropdown(description='ElectType:', index=1, options=('Select', 'President', 'Governors',…"
      ]
     },
     "metadata": {},
     "output_type": "display_data"
    }
   ],
   "source": [
    "\n",
    "def plotit(election, state, county):\n",
    "    if election == 'Select':\n",
    "        return\n",
    "    collection = databases[election]\n",
    "    if state == 'All':\n",
    "        result = {}\n",
    "        for state in collection.distinct('state'):\n",
    "            documents = get_diversity_state(state, collection)\n",
    "            temp = {}\n",
    "            for doc in documents:\n",
    "                temp[doc['_id']] = doc['votes']\n",
    "                temp['diversity'] = doc['Diversity'][0]['_id']\n",
    "            result[state] = temp\n",
    "        result = pd.DataFrame.from_dict(result, orient='index')\n",
    "        result = result.rename_axis('states') \n",
    "        figure = get_diversity_figure(result, 'states')\n",
    "        figure.show()\n",
    "\n",
    "UI = interactive(plotit, election=election, state=state, county=county)\n",
    "controls = HBox(UI.children[:-1], layout = Layout(flex_flow='row wrap'))\n",
    "output = UI.children[-1]\n",
    "display(VBox([controls, output]))\n",
    "# display(UI)"
   ]
  },
  {
   "cell_type": "code",
   "execution_count": null,
   "metadata": {},
   "outputs": [],
   "source": []
  },
  {
   "cell_type": "code",
   "execution_count": null,
   "metadata": {},
   "outputs": [],
   "source": [
    "collection.aggregate([\n",
    "    {'$match':{'state':state, 'county':county}},\n",
    "    {'$group':{'_id':'$party', 'votes':{'$sum':'$total_votes'}}},\n",
    "    {'$sort': OrderedDict([('votes', -1), ('_id', -1)])},\n",
    "    {'$lookup':{\n",
    "        'from': \"census_2017\",\n",
    "        'let': {'election_state': \"$state\", 'election_county': \"$county\" },\n",
    "        'pipeline':[\n",
    "            {'$match':{'$state':\"$$election_state\", '$county':\"$$election_county\"}},\n",
    "            {'$group':{\n",
    "                '_id':'Diversity',\n",
    "                \"Hispanic\" : {'$sum':\"$Hispanic\"},\n",
    "                \"White\" : {'$sum' :\"$White\"},\n",
    "                \"Black\" : {'$sum' :\"$Black\"},\n",
    "                \"Native\" : {'$sum' :\"$Native\"},\n",
    "                \"Asian\" : {'$sum' :\"$Asian\"},\n",
    "                \"Pacific\" : {'$sum' :\"$Pacific\"}}},\n",
    "            {'$project':{'Percentage':{'$subtract':[100,\"$White\"]}}},\n",
    "            {'$sort': OrderedDict([('Percentage', -1), ('_id', -1)])},\n",
    "        ],\n",
    "        \"as\":\"Diversity\"\n",
    "    }}\n",
    "])\n",
    "\n",
    "\n",
    "{ \"$project\" : {\n",
    "      'totalA' : '$totalA',\n",
    "      'totalB' : '$totalB',\n",
    "      'totalSum' : { '$add' : [ '$totalA', '$totalB' ] },\n",
    "     }\n",
    "                     { $expr:\n",
    "                        { $and:\n",
    "                           [\n",
    "                             { $eq: [ \"$state\",  \"$$election_state\" ] },\n",
    "                             { $eq: [ \"$county\", \"$$election_county\" ] }\n",
    "                           ]\n",
    "                        }\n",
    "                     }\n",
    "\n",
    " "
   ]
  },
  {
   "cell_type": "code",
   "execution_count": null,
   "metadata": {},
   "outputs": [],
   "source": []
  },
  {
   "cell_type": "code",
   "execution_count": null,
   "metadata": {},
   "outputs": [],
   "source": []
  },
  {
   "cell_type": "code",
   "execution_count": null,
   "metadata": {},
   "outputs": [],
   "source": []
  },
  {
   "cell_type": "code",
   "execution_count": 49,
   "metadata": {},
   "outputs": [
    {
     "data": {
      "application/vnd.jupyter.widget-view+json": {
       "model_id": "a286488bf4234d56ab4486c51eb43057",
       "version_major": 2,
       "version_minor": 0
      },
      "text/plain": [
       "interactive(children=(Dropdown(description='State:', options=('Select', 'All', 'Delaware', 'Indiana', 'Missour…"
      ]
     },
     "metadata": {},
     "output_type": "display_data"
    }
   ],
   "source": [
    "# HOW DID US VOTE in Governer Election?\n",
    "import plotly.io as pio\n",
    "\n",
    "governors_state = database.governors_state\n",
    "governors_county = database.governors_county\n",
    "governors_candidate = database.governors_county_candidate\n",
    "database.senate_county_candidate\n",
    "\n",
    "state = widgets.Dropdown(\n",
    "    options=['Select', 'All',]+ governors_state.distinct('state'),\n",
    "    value='Select',\n",
    "    description='State:',\n",
    ")\n",
    "\n",
    "def state_change_handler(change):\n",
    "    county.options = ['Select', 'All',] + governors_county.distinct('county', { 'state': f\"{change['new']}\" })\n",
    "\n",
    "state.observe(state_change_handler, names='value')\n",
    "\n",
    "county = widgets.Dropdown(\n",
    "    options=['Select', 'All',],\n",
    "    value='Select',\n",
    "    description='County:',\n",
    ")\n",
    "\n",
    "def plotit(state, county):\n",
    "    documents = governors_candidate.aggregate([\n",
    "        {'$match':{'state':state, 'county':county}},\n",
    "        {'$group':{'_id':'$party', 'votes':{'$sum':'$votes'}}},\n",
    "        {'$sort': OrderedDict([('votes', -1), ('_id', -1)])}\n",
    "    ])\n",
    "    \n",
    "    x, y = [], []\n",
    "    for doc in documents:\n",
    "        x.append(doc['_id'])\n",
    "        y.append(doc['votes'])\n",
    "#     plt.plot(x, y, 'bo')\n",
    "    \n",
    "\n",
    "UI = interactive(plotit, state=state, county=county)\n",
    "display(UI)"
   ]
  },
  {
   "cell_type": "code",
   "execution_count": 30,
   "metadata": {},
   "outputs": [
    {
     "name": "stdout",
     "output_type": "stream",
     "text": [
      "\"Hispanic\" : \"$Hispanic\"\n",
      "\"White\" : \"$White\"\n",
      "\"Black\" : \"$Black\"\n",
      "\"Native\" : \"$Native\"\n",
      "\"Asian\" : \"$Asian\"\n",
      "\"Pacific\" : \"$Pacific\"\n"
     ]
    }
   ],
   "source": [
    "\n",
    "\n",
    "l = [\"$Hispanic\",\"$White\",\"$Black\",\"$Native\",\"$Asian\",\"$Pacific\"]\n",
    "for a in l:\n",
    "    print(f'\"{a.replace(\"$\", \"\")}\"', \":\", f'\"{a}\"')\n",
    "    "
   ]
  },
  {
   "cell_type": "code",
   "execution_count": 20,
   "metadata": {},
   "outputs": [
    {
     "data": {
      "application/vnd.jupyter.widget-view+json": {
       "model_id": "9fa593f28f2148f0966e6427e8a59f5f",
       "version_major": 2,
       "version_minor": 0
      },
      "text/plain": [
       "VBox(children=(HBox(children=(Dropdown(description='ElectType:', options=('Select', 'President', 'Governors', …"
      ]
     },
     "metadata": {},
     "output_type": "display_data"
    }
   ],
   "source": []
  },
  {
   "cell_type": "code",
   "execution_count": 21,
   "metadata": {},
   "outputs": [
    {
     "data": {
      "application/vnd.jupyter.widget-view+json": {
       "model_id": "564b62bc9e254302961572aa4a3bfbda",
       "version_major": 2,
       "version_minor": 0
      },
      "text/plain": [
       "VBox(children=(HBox(children=(Dropdown(description='ElectType:', options=('Select', 'President', 'Governors', …"
      ]
     },
     "metadata": {},
     "output_type": "display_data"
    }
   ],
   "source": [
    "from ipywidgets import interactive,\n",
    "\n",
    "county = widgets.Dropdown(options=['Select'], description='County')\n",
    "\n",
    "#----------------------------------------------------\n",
    "state = widgets.Dropdown(options=['Select'], description='State')\n",
    "\n",
    "def state_change_handler(change):\n",
    "    if change['new'] == 'Select':\n",
    "        return\n",
    "    collection = indexes[UI.children[0].value]\n",
    "    county.options = ['Select', 'All',] + collection.distinct('county', {'state':change['new']}) \n",
    "\n",
    "state.observe(state_change_handler, names='value')\n",
    "#----------------------------------------------------\n",
    "\n",
    "election = widgets.Dropdown(options=['Select']+list(indexes.keys()),description='ElectType:')\n",
    "\n",
    "def election_change_handler(change):\n",
    "    if change['new'] == 'Select':\n",
    "        return\n",
    "    collection = indexes[change['new']]\n",
    "    state.options = ['Select', 'All',] + collection.distinct('state')\n",
    "    county.options = ['Select', 'All',] + collection.distinct('county', {'state':UI.children[1].value})\n",
    "    \n",
    "election.observe(election_change_handler, names='value')\n",
    "\n",
    "def plot_function(election, state, county):\n",
    "    print(election, state, county)\n",
    "UI=interactive(plot_function,election=election, state=state, county=county)\n"
   ]
  },
  {
   "cell_type": "code",
   "execution_count": null,
   "metadata": {},
   "outputs": [],
   "source": []
  }
 ],
 "metadata": {
  "kernelspec": {
   "display_name": "Python 3",
   "language": "python",
   "name": "python3"
  },
  "language_info": {
   "codemirror_mode": {
    "name": "ipython",
    "version": 3
   },
   "file_extension": ".py",
   "mimetype": "text/x-python",
   "name": "python",
   "nbconvert_exporter": "python",
   "pygments_lexer": "ipython3",
   "version": "3.7.6"
  }
 },
 "nbformat": 4,
 "nbformat_minor": 4
}
