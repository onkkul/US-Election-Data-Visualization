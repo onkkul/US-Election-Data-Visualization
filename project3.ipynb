{
 "cells": [
  {
   "cell_type": "code",
   "execution_count": 1,
   "metadata": {},
   "outputs": [],
   "source": [
    "# -*- coding: utf-8 -*-\n",
    "\"\"\"\n",
    "Created on Thu Nov 12 13:09:02 2020\n",
    "\n",
    "@author: Onkar Kulkarni\n",
    "\"\"\"\n",
    "\n",
    "import pandas as pd\n",
    "from os import listdir\n",
    "from collections import OrderedDict\n",
    "from os.path import isfile, join, dirname, realpath\n",
    "\n",
    "from pymongo import MongoClient\n",
    "\n",
    "from ipywidgets import widgets, interactive, HBox, Layout,VBox #interact\n",
    "\n",
    "import plotly.io as pio\n",
    "import plotly.express as px\n",
    "import plotly.graph_objects as go\n",
    "from plotly.subplots import make_subplots\n"
   ]
  },
  {
   "cell_type": "code",
   "execution_count": 2,
   "metadata": {},
   "outputs": [],
   "source": [
    "############################# Database Connectivity #############################\n",
    "\n",
    "client = MongoClient()\n",
    "database=client.Project3\n"
   ]
  },
  {
   "cell_type": "code",
   "execution_count": 3,
   "metadata": {},
   "outputs": [],
   "source": [
    "############################# Database Loading #############################\n",
    "\n",
    "pwd = dirname(realpath('__file__'))\n",
    "datapath = pwd + '\\ archive'.replace(' ', '')\n",
    "\n",
    "collections = [file for file in listdir(datapath) if isfile(join(datapath, file))]\n",
    "\n",
    "for file in collections:\n",
    "    dataframe = pd.read_csv(join(datapath, file))\n",
    "    dataframe = dataframe.rename(columns={\"votes\": \"total_votes\"}, errors='ignore')\n",
    "    dataframe = dataframe.rename(columns={\"State\": \"state\"}, errors='ignore')\n",
    "    dataframe = dataframe.rename(columns={\"County\": \"county\"}, errors='ignore')\n",
    "    json_dump = dataframe.to_dict(orient='records')\n",
    "    # dataframe.to_json(file.replace('.csv', '.json'), orient='records')\n",
    "\n",
    "    database[file.replace('.csv', '')].drop()\n",
    "    database[file.replace('.csv', '')].insert_many(json_dump)\n",
    "    \n",
    "    del[json_dump]\n"
   ]
  },
  {
   "cell_type": "code",
   "execution_count": null,
   "metadata": {},
   "outputs": [],
   "source": []
  },
  {
   "cell_type": "code",
   "execution_count": null,
   "metadata": {},
   "outputs": [],
   "source": []
  },
  {
   "cell_type": "markdown",
   "metadata": {},
   "source": [
    "# Graph 1: Show Party wise votes for election in a county/state"
   ]
  },
  {
   "cell_type": "code",
   "execution_count": null,
   "metadata": {},
   "outputs": [],
   "source": []
  },
  {
   "cell_type": "code",
   "execution_count": 4,
   "metadata": {},
   "outputs": [],
   "source": [
    "############################# BACKEND Queries #############################\n",
    "\n",
    "indexes = {\"President\":database.president_county, \n",
    "           \"Governors\":database.governors_county, \n",
    "           \"Senate\":database.senate_county }\n",
    "\n",
    "databases = {\"President\":database.president_county_candidate, \n",
    "             \"Governors\":database.governors_county_candidate, \n",
    "             \"Senate\":database.senate_county_candidate}\n",
    "\n",
    "#----------------------------------------------------\n",
    "def country_trend(collection):\n",
    "    documents = collection.aggregate([\n",
    "        {'$group':{'_id':'$party', 'votes':{'$sum':'$total_votes'}}},\n",
    "        {'$sort': OrderedDict([('votes', -1), ('_id', -1)])}\n",
    "    ])\n",
    "    return documents\n",
    "def single_state_trend(collection, state):\n",
    "    documents = collection.aggregate([\n",
    "        {'$match':{'state':state}},\n",
    "        {'$group':{'_id':'$party', 'votes':{'$sum':'$total_votes'}}},\n",
    "        {'$sort': OrderedDict([('votes', -1), ('_id', -1)])}\n",
    "    ])\n",
    "    return documents\n",
    "def single_county_trend(collection, state, county):\n",
    "    documents = collection.aggregate([\n",
    "        {'$match':{'state':state, 'county':county}},\n",
    "        {'$group':{'_id':'$party', 'votes':{'$sum':'$total_votes'}}},\n",
    "        {'$sort': OrderedDict([('votes', -1), ('_id', -1)])}\n",
    "    ])\n",
    "    return documents\n"
   ]
  },
  {
   "cell_type": "code",
   "execution_count": 5,
   "metadata": {},
   "outputs": [],
   "source": [
    "############################# UI ELEMENTS #############################\n",
    "\n",
    "county = widgets.Dropdown(options=['Select'], description='County')\n",
    "\n",
    "#----------------------------------------------------\n",
    "state = widgets.Dropdown(options=['Select'], description='State')\n",
    "\n",
    "def state_change_handler(change):\n",
    "    if change['new'] == 'Select':\n",
    "        return\n",
    "    collection = indexes[UI.children[0].value]\n",
    "    county.options = ['Select', 'All',] + collection.distinct('county', {'state':change['new']}) \n",
    "\n",
    "state.observe(state_change_handler, names='value')\n",
    "#----------------------------------------------------\n",
    "\n",
    "election = widgets.Dropdown(options=['Select']+list(indexes.keys()),description='ElectType:')\n",
    "\n",
    "def election_change_handler(change):\n",
    "    if change['new'] == 'Select':\n",
    "        return\n",
    "    collection = indexes[change['new']]\n",
    "    state.options = ['Select', 'All',] + collection.distinct('state')\n",
    "    county.options = ['Select', 'All',] + collection.distinct('county', {'state':UI.children[1].value})\n",
    "    \n",
    "election.observe(election_change_handler, names='value')\n"
   ]
  },
  {
   "cell_type": "code",
   "execution_count": 6,
   "metadata": {},
   "outputs": [],
   "source": [
    "############################# IMAGE PLOT ELEMENTS #############################\n",
    "\n",
    "def get_figure(x, y, figure_type, title):\n",
    "    colors = px.colors.qualitative.Alphabet[0:len(x)]\n",
    "    fig = make_subplots(rows=1, cols=2, specs=[[{\"type\": \"pie\"}, {\"type\": \"bar\"}]])\n",
    "\n",
    "    fig.add_trace(go.Pie(labels=x, values=y, marker=dict(colors=colors)), row=1, col=1)\n",
    "    fig.add_trace(go.Bar(x=x, y=y, marker=dict(color=colors)), row=1, col=2)\n",
    "    fig.update_layout(title_text=f\"Party Vote Comparison for {title}\", showlegend=True)\n",
    "    return fig"
   ]
  },
  {
   "cell_type": "code",
   "execution_count": 7,
   "metadata": {
    "scrolled": true
   },
   "outputs": [
    {
     "data": {
      "application/vnd.jupyter.widget-view+json": {
       "model_id": "b6e8d82b02cb4bb6adec92d8d50fa215",
       "version_major": 2,
       "version_minor": 0
      },
      "text/plain": [
       "VBox(children=(HBox(children=(Dropdown(description='ElectType:', options=('Select', 'President', 'Governors', …"
      ]
     },
     "metadata": {},
     "output_type": "display_data"
    }
   ],
   "source": [
    "############################# MAIN PLOT #############################\n",
    "\n",
    "def plotit(election, state, county):\n",
    "    if election == 'Select':\n",
    "        return\n",
    "\n",
    "    collection = databases[election]\n",
    "    if state == 'All':\n",
    "        documents = country_trend(collection)\n",
    "        title = f'{election} election in {state}'\n",
    "    elif county == 'All':\n",
    "        documents = single_state_trend(collection, state)\n",
    "        title = f'{election} election in {state}'\n",
    "    else:\n",
    "        documents = single_county_trend(collection, state, county)\n",
    "        title = f'{election} election in {county}, {state}'\n",
    "        \n",
    "    x, y = [], []\n",
    "    for doc in documents:\n",
    "        x.append(doc['_id'])\n",
    "        y.append(doc['votes']) \n",
    "        \n",
    "    fig = get_figure(x, y, 'bar', title)\n",
    "    fig.show()\n",
    "    \n",
    "UI = interactive(plotit, election=election, state=state, county=county)\n",
    "controls = HBox(UI.children[:-1], layout = Layout(flex_flow='row wrap'))\n",
    "output = UI.children[-1]\n",
    "display(VBox([controls, output]))\n"
   ]
  },
  {
   "cell_type": "code",
   "execution_count": null,
   "metadata": {},
   "outputs": [],
   "source": []
  },
  {
   "cell_type": "code",
   "execution_count": null,
   "metadata": {},
   "outputs": [],
   "source": []
  },
  {
   "cell_type": "markdown",
   "metadata": {},
   "source": [
    "\n",
    "\n",
    "# Race - Vote Corrolation\n",
    "\n"
   ]
  },
  {
   "cell_type": "code",
   "execution_count": 8,
   "metadata": {},
   "outputs": [],
   "source": [
    "############################# BACKEND Queries #############################\n",
    "\n",
    "def get_diversity_county(collection,state,county):\n",
    "    documents = collection.aggregate([\n",
    "        {'$match':{'state':state, 'county':county}},\n",
    "        {'$group':{'_id':'$party', 'votes':{'$sum':'$total_votes'}}},\n",
    "        {'$lookup':{\n",
    "            'from': \"census_2017\",\n",
    "            'let': {'election_state': state, 'election_county': county},\n",
    "            'pipeline':[\n",
    "                {'$match':\n",
    "                    { '$expr':\n",
    "                        { '$and':[\n",
    "                            { '$eq': [ \"$state\",  \"$$election_state\" ] },\n",
    "                            { '$eq': [ \"$county\", \"$$election_county\" ] }\n",
    "                        ]}\n",
    "                    }\n",
    "                },\n",
    "                {'$group':{\n",
    "                    '_id':'Diversity',\n",
    "                    \"White\" : {'$sum' :\"$White\"}}},\n",
    "                {'$project':{'_id':{'$subtract':[100,\"$White\"]}}},\n",
    "                {'$sort': OrderedDict([('_id', -1)])},\n",
    "            ],\n",
    "            \"as\":\"Diversity\"\n",
    "        }}\n",
    "    ])\n",
    "    return documents\n",
    "\n",
    "def get_diversity_state(collection,state):\n",
    "    documents = collection.aggregate([\n",
    "        {'$match':{'state':state}},\n",
    "        {'$group':{'_id':'$party', 'votes':{'$sum':'$total_votes'}}},\n",
    "        {'$lookup':{\n",
    "            'from': \"census_2017\",\n",
    "            'let': {'election_state': state},\n",
    "            'pipeline':[\n",
    "                {'$match':{'$expr':{ '$eq': [ \"$state\",  \"$$election_state\" ] }}},\n",
    "                {'$group':{\n",
    "                    '_id':'Diversity',\n",
    "                    'Count' : {'$sum':1},\n",
    "                    \"White\" : {'$sum' :\"$White\"}}},\n",
    "                {'$project':{'_id':{'$divide':[{'$subtract':[{\"$multiply\":[\"$Count\", 100]},\"$White\"]}, 100]}}},\n",
    "                {'$sort': OrderedDict([('_id', -1)])},\n",
    "            ],\n",
    "            \"as\":\"Diversity\"\n",
    "        }}\n",
    "    ])\n",
    "    return documents"
   ]
  },
  {
   "cell_type": "code",
   "execution_count": 9,
   "metadata": {},
   "outputs": [],
   "source": [
    "############################# UI ELEMENTS #############################\n",
    "\n",
    "county = widgets.Dropdown(options=['Select'], description='County')\n",
    "\n",
    "#----------------------------------------------------\n",
    "state = widgets.Dropdown(options=['Select'], description='State')\n",
    "\n",
    "def state_change_handler(change):\n",
    "    if change['new'] == 'Select':\n",
    "        return\n",
    "    collection = indexes[UI.children[0].value]\n",
    "    county.options = ['Select', 'All',] + collection.distinct('county', {'state':change['new']}) \n",
    "\n",
    "state.observe(state_change_handler, names='value')\n",
    "#----------------------------------------------------\n",
    "\n",
    "election = widgets.Dropdown(options=['Select']+list(indexes.keys()),description='ElectType:')\n",
    "\n",
    "def election_change_handler(change):\n",
    "    if change['new'] == 'Select':\n",
    "        return\n",
    "    collection = indexes[change['new']]\n",
    "    state.options = ['Select', 'All',] + collection.distinct('state')\n",
    "    county.options = ['Select', 'All',] + collection.distinct('county', {'state':UI.children[1].value})\n",
    "    \n",
    "election.observe(election_change_handler, names='value')\n",
    "\n"
   ]
  },
  {
   "cell_type": "code",
   "execution_count": 10,
   "metadata": {},
   "outputs": [],
   "source": [
    "############################# IMAGE PLOT ELEMENTS #############################\n",
    "\n",
    "def query_formatter(collection, state, county=None):\n",
    "    if county:        iterator = collection.distinct('county', {'state':state})\n",
    "    else:             iterator = collection.distinct('state')\n",
    "\n",
    "    name = 'counties' if county else 'states'\n",
    "    result = {}\n",
    "    for each in iterator:\n",
    "        if county:       documents = get_diversity_county(collection,state,each)\n",
    "        else:            documents = get_diversity_state(collection,each)\n",
    "        \n",
    "        temp = {}\n",
    "        for doc in documents:\n",
    "            temp[doc['_id']] = doc['votes']\n",
    "            temp['diversity'] = doc['Diversity'][0]['_id']\n",
    "        \n",
    "        result[each] = temp\n",
    "    \n",
    "    result = pd.DataFrame.from_dict(result, orient='index')\n",
    "    result = result.rename_axis(f'{name}')\n",
    "    return result\n",
    "\n",
    "def get_diversity_figure(result, title):\n",
    "    titles = ['Republican', 'Democrat','Diversity'] \n",
    "    fig = make_subplots(rows=3, cols=1, shared_xaxes=True, vertical_spacing=0.02, subplot_titles=titles)\n",
    "\n",
    "    fig.add_trace(go.Scatter(x=result.index, y=result['REP']),row=1, col=1)\n",
    "\n",
    "    fig.add_trace(go.Scatter(x=result.index, y=result['DEM']),row=2, col=1)\n",
    "    \n",
    "    fig.add_trace(go.Scatter(x=result.index, y=result['diversity']),row=3, col=1)\n",
    "\n",
    "    fig.update_layout(height=400, width=600, title_text=f\"Racial Diversity-Vote Corrolation for {title}\",\n",
    "                      showlegend=False)\n",
    "    fig.update_annotations(dict(font_size=8))\n",
    "    return fig"
   ]
  },
  {
   "cell_type": "code",
   "execution_count": 11,
   "metadata": {
    "scrolled": true
   },
   "outputs": [
    {
     "data": {
      "application/vnd.jupyter.widget-view+json": {
       "model_id": "a8324467c62d4775aedba1eb173f077b",
       "version_major": 2,
       "version_minor": 0
      },
      "text/plain": [
       "VBox(children=(HBox(children=(Dropdown(description='ElectType:', options=('Select', 'President', 'Governors', …"
      ]
     },
     "metadata": {},
     "output_type": "display_data"
    }
   ],
   "source": [
    "############################# MAIN PLOT #############################\n",
    "\n",
    "def plot_second(election, state, county):\n",
    "    if election == 'Select':\n",
    "        return\n",
    "    collection = databases[election]\n",
    "    if state == 'All':\n",
    "        result = query_formatter(collection, state, county=None)\n",
    "        figure = get_diversity_figure(result, f'{election} election')\n",
    "        figure.show()\n",
    "    \n",
    "    elif (state != 'Select' or state != 'All') and county == \"All\":\n",
    "        result = query_formatter(collection, state, county='All')\n",
    "        figure = get_diversity_figure(result, f'{election} election, {state}')\n",
    "        figure.show()\n",
    "        \n",
    "        \n",
    "\n",
    "UI = interactive(plot_second, election=election, state=state, county=county)\n",
    "controls = HBox(UI.children[:-1], layout = Layout(flex_flow='row wrap'))\n",
    "output = UI.children[-1]\n",
    "display(VBox([controls, output]))\n"
   ]
  },
  {
   "cell_type": "code",
   "execution_count": null,
   "metadata": {},
   "outputs": [],
   "source": []
  },
  {
   "cell_type": "code",
   "execution_count": null,
   "metadata": {},
   "outputs": [],
   "source": []
  },
  {
   "cell_type": "markdown",
   "metadata": {},
   "source": [
    "\n",
    "# Graph 3 : Poverty - Votes Corrolation\n"
   ]
  },
  {
   "cell_type": "code",
   "execution_count": 12,
   "metadata": {},
   "outputs": [],
   "source": [
    "############################# BACKEND Queries #############################\n",
    "\n",
    "def get_poverty_county(collection,state,county):\n",
    "    documents = collection.aggregate([\n",
    "        {'$match':{'state':state, 'county':county}},\n",
    "        {'$group':{'_id':'$party', 'votes':{'$sum':'$total_votes'}}},\n",
    "        {'$lookup':{\n",
    "            'from': \"census_2017\",\n",
    "            'let': {'election_state': state, 'election_county': county},\n",
    "            'pipeline':[\n",
    "                {'$match':\n",
    "                    { '$expr':\n",
    "                        { '$and':[\n",
    "                            { '$eq': [ \"$state\",  \"$$election_state\" ] },\n",
    "                            { '$eq': [ \"$county\", \"$$election_county\" ] }\n",
    "                        ]}\n",
    "                    }\n",
    "                },\n",
    "                {'$group':{\n",
    "                    '_id':'Diversity',\n",
    "                    \"Poverty\" : {'$sum' :\"$Poverty\"}}},\n",
    "                {'$project':{'_id':{'$subtract':[100,\"$Poverty\"]}}},\n",
    "                {'$sort': OrderedDict([('_id', -1)])},\n",
    "            ],\n",
    "            \"as\":\"Diversity\"\n",
    "        }}\n",
    "    ])\n",
    "    return documents\n",
    "\n",
    "def get_poverty_state(collection,state):\n",
    "    documents = collection.aggregate([\n",
    "        {'$match':{'state':state}},\n",
    "        {'$group':{'_id':'$party', 'votes':{'$sum':'$total_votes'}}},\n",
    "        {'$lookup':{\n",
    "            'from': \"census_2017\",\n",
    "            'let': {'election_state': state},\n",
    "            'pipeline':[\n",
    "                {'$match':{'$expr':{ '$eq': [ \"$state\",  \"$$election_state\" ] }}},\n",
    "                {'$group':{\n",
    "                    '_id':'Diversity',\n",
    "                    'Count' : {'$sum':1},\n",
    "                    \"Poverty\" : {'$sum' :\"$Poverty\"}}},\n",
    "                {'$project':{'_id':{'$divide':[{'$subtract':[{\"$multiply\":[\"$Count\", 100]},\"$Poverty\"]}, 100]}}},\n",
    "                {'$sort': OrderedDict([('_id', -1)])},\n",
    "            ],\n",
    "            \"as\":\"Diversity\"\n",
    "        }}\n",
    "    ])\n",
    "    return documents"
   ]
  },
  {
   "cell_type": "code",
   "execution_count": 13,
   "metadata": {},
   "outputs": [],
   "source": [
    "############################# UI ELEMENTS #############################\n",
    "\n",
    "county = widgets.Dropdown(options=['Select'], description='County')\n",
    "\n",
    "#----------------------------------------------------\n",
    "state = widgets.Dropdown(options=['Select'], description='State')\n",
    "\n",
    "def state_change_handler(change):\n",
    "    if change['new'] == 'Select':\n",
    "        return\n",
    "    collection = indexes[UI.children[0].value]\n",
    "    county.options = ['Select', 'All',] + collection.distinct('county', {'state':change['new']}) \n",
    "\n",
    "state.observe(state_change_handler, names='value')\n",
    "#----------------------------------------------------\n",
    "\n",
    "election = widgets.Dropdown(options=['Select']+list(indexes.keys()),description='ElectType:')\n",
    "\n",
    "def election_change_handler(change):\n",
    "    if change['new'] == 'Select':\n",
    "        return\n",
    "    collection = indexes[change['new']]\n",
    "    state.options = ['Select', 'All',] + collection.distinct('state')\n",
    "    county.options = ['Select', 'All',] + collection.distinct('county', {'state':UI.children[1].value})\n",
    "    \n",
    "election.observe(election_change_handler, names='value')"
   ]
  },
  {
   "cell_type": "code",
   "execution_count": 14,
   "metadata": {},
   "outputs": [],
   "source": [
    "############################# IMAGE PLOT ELEMENTS #############################\n",
    "\n",
    "def query_formatter_p(collection, state, county=None):\n",
    "    if county:        iterator = collection.distinct('county', {'state':state})\n",
    "    else:             iterator = collection.distinct('state')\n",
    "\n",
    "    name = 'counties' if county else 'states'\n",
    "    result = {}\n",
    "    for each in iterator:\n",
    "        if county:       documents = get_poverty_county(collection,state,each)\n",
    "        else:            documents = get_poverty_state(collection,each)\n",
    "        \n",
    "        temp = {}\n",
    "        for doc in documents:\n",
    "            temp[doc['_id']] = doc['votes']\n",
    "            temp['diversity'] = doc['Diversity'][0]['_id']\n",
    "        \n",
    "        result[each] = temp\n",
    "    \n",
    "    result = pd.DataFrame.from_dict(result, orient='index')\n",
    "    result = result.rename_axis(f'{name}')\n",
    "    return result\n",
    "\n",
    "\n",
    "def get_poverty_figure(result, title):\n",
    "    titles = ['Republican', 'Democrat','Poverty'] \n",
    "    fig = make_subplots(rows=3, cols=1, shared_xaxes=True, vertical_spacing=0.05, subplot_titles=titles)\n",
    "\n",
    "    fig.add_trace(go.Scatter(x=result.index, y=result['REP']),row=1, col=1)\n",
    "    \n",
    "    fig.add_trace(go.Scatter(x=result.index, y=result['DEM']),row=2, col=1)\n",
    "    \n",
    "    fig.add_trace(go.Scatter(x=result.index, y=result['diversity']),row=3, col=1)\n",
    "\n",
    "    fig.update_layout(height=400, width=600, title_text=f\"Poverty - Votes Corrolation for {title}\",\n",
    "                      showlegend=False)\n",
    "    fig.update_annotations(dict(font_size=8))\n",
    "    return fig\n",
    "\n"
   ]
  },
  {
   "cell_type": "code",
   "execution_count": 15,
   "metadata": {},
   "outputs": [
    {
     "data": {
      "application/vnd.jupyter.widget-view+json": {
       "model_id": "5f46c5d114e64ae5a9234a53f52b257b",
       "version_major": 2,
       "version_minor": 0
      },
      "text/plain": [
       "VBox(children=(HBox(children=(Dropdown(description='ElectType:', options=('Select', 'President', 'Governors', …"
      ]
     },
     "metadata": {},
     "output_type": "display_data"
    }
   ],
   "source": [
    "def plot_third(election, state, county):\n",
    "    if election == 'Select':\n",
    "        return\n",
    "    collection = databases[election]\n",
    "    if state == 'All':\n",
    "        result = query_formatter_p(collection, state, county=None)\n",
    "        figure = get_poverty_figure(result, f'{election} election')\n",
    "        figure.show()\n",
    "    \n",
    "    elif (state != 'Select' or state != 'All') and county == \"All\":\n",
    "        result = query_formatter_p(collection, state, county='All')\n",
    "        figure = get_poverty_figure(result, f'{election} election, {state}')\n",
    "        figure.show()\n",
    "        \n",
    "        \n",
    "\n",
    "UI = interactive(plot_third, election=election, state=state, county=county)\n",
    "controls = HBox(UI.children[:-1], layout = Layout(flex_flow='row wrap'))\n",
    "output = UI.children[-1]\n",
    "display(VBox([controls, output]))"
   ]
  },
  {
   "cell_type": "code",
   "execution_count": null,
   "metadata": {},
   "outputs": [],
   "source": []
  },
  {
   "cell_type": "code",
   "execution_count": null,
   "metadata": {},
   "outputs": [],
   "source": []
  }
 ],
 "metadata": {
  "kernelspec": {
   "display_name": "Python 3",
   "language": "python",
   "name": "python3"
  },
  "language_info": {
   "codemirror_mode": {
    "name": "ipython",
    "version": 3
   },
   "file_extension": ".py",
   "mimetype": "text/x-python",
   "name": "python",
   "nbconvert_exporter": "python",
   "pygments_lexer": "ipython3",
   "version": "3.7.6"
  },
  "widgets": {
   "application/vnd.jupyter.widget-state+json": {
    "state": {
     "160b69526319493da449c50ead54b9fe": {
      "model_module": "@jupyter-widgets/controls",
      "model_module_version": "1.5.0",
      "model_name": "VBoxModel",
      "state": {
       "children": [
        "IPY_MODEL_d24612c05fce4237b7c5f198cc949e7d",
        "IPY_MODEL_865b5ea31b1c463fa0c3b09df455e051"
       ],
       "layout": "IPY_MODEL_cf38f19cfeff4ee8a07ce66fa3044bb3"
      }
     },
     "1a7ff8d578104768a39600b0c8f9a79c": {
      "model_module": "@jupyter-widgets/controls",
      "model_module_version": "1.5.0",
      "model_name": "DescriptionStyleModel",
      "state": {
       "description_width": ""
      }
     },
     "1de1f0e48d9a4d0e8885b96013387e97": {
      "model_module": "@jupyter-widgets/controls",
      "model_module_version": "1.5.0",
      "model_name": "DescriptionStyleModel",
      "state": {
       "description_width": ""
      }
     },
     "1e765f93c9f14eeeac5b3c282bf7a023": {
      "model_module": "@jupyter-widgets/base",
      "model_module_version": "1.2.0",
      "model_name": "LayoutModel",
      "state": {}
     },
     "20ff2d3224e24c90bab0c054f4af51cb": {
      "model_module": "@jupyter-widgets/base",
      "model_module_version": "1.2.0",
      "model_name": "LayoutModel",
      "state": {}
     },
     "2aad2265afbe4f9aad31cad407d379f7": {
      "model_module": "@jupyter-widgets/base",
      "model_module_version": "1.2.0",
      "model_name": "LayoutModel",
      "state": {}
     },
     "32262e2357144a0981f2878433188cd6": {
      "model_module": "@jupyter-widgets/base",
      "model_module_version": "1.2.0",
      "model_name": "LayoutModel",
      "state": {}
     },
     "3fb72004bfed42e5aabfbdcf216914c5": {
      "model_module": "@jupyter-widgets/controls",
      "model_module_version": "1.5.0",
      "model_name": "DropdownModel",
      "state": {
       "_options_labels": [
        "Select",
        "All",
        "Alabama",
        "Alaska",
        "Arizona",
        "Arkansas",
        "California",
        "Colorado",
        "Connecticut",
        "Delaware",
        "District of Columbia",
        "Florida",
        "Georgia",
        "Hawaii",
        "Idaho",
        "Illinois",
        "Indiana",
        "Iowa",
        "Kansas",
        "Kentucky",
        "Louisiana",
        "Maine",
        "Maryland",
        "Massachusetts",
        "Michigan",
        "Minnesota",
        "Mississippi",
        "Missouri",
        "Montana",
        "Nebraska",
        "Nevada",
        "New Hampshire",
        "New Jersey",
        "New Mexico",
        "New York",
        "North Carolina",
        "North Dakota",
        "Ohio",
        "Oklahoma",
        "Oregon",
        "Pennsylvania",
        "Rhode Island",
        "South Carolina",
        "South Dakota",
        "Tennessee",
        "Texas",
        "Utah",
        "Vermont",
        "Virginia",
        "Washington",
        "West Virginia",
        "Wisconsin",
        "Wyoming"
       ],
       "description": "State",
       "index": 1,
       "layout": "IPY_MODEL_32262e2357144a0981f2878433188cd6",
       "style": "IPY_MODEL_cfeeaeae105943f49c334acd8c4b51d3"
      }
     },
     "42a2b355bafc4aa2a3806b5c15b3d1b7": {
      "model_module": "@jupyter-widgets/base",
      "model_module_version": "1.2.0",
      "model_name": "LayoutModel",
      "state": {}
     },
     "4699f924eac04782859e753d7c2854d6": {
      "model_module": "@jupyter-widgets/base",
      "model_module_version": "1.2.0",
      "model_name": "LayoutModel",
      "state": {
       "flex_flow": "row wrap"
      }
     },
     "493b2536a9a041279bf0a062a212c1fa": {
      "model_module": "@jupyter-widgets/controls",
      "model_module_version": "1.5.0",
      "model_name": "VBoxModel",
      "state": {
       "children": [
        "IPY_MODEL_f7d9c2ff736448caa3c6291c71955599",
        "IPY_MODEL_c5b57d4134f348b390902b07c442b61c"
       ],
       "layout": "IPY_MODEL_de68089c66e94340a83d5c7d3e960486"
      }
     },
     "5e235a44c165455da0eb652cc53599b3": {
      "model_module": "@jupyter-widgets/controls",
      "model_module_version": "1.5.0",
      "model_name": "DropdownModel",
      "state": {
       "_options_labels": [
        "Select",
        "President",
        "Governors",
        "Senate"
       ],
       "description": "ElectType:",
       "index": 1,
       "layout": "IPY_MODEL_8c2281650f0042f6aec9dc7345093bc3",
       "style": "IPY_MODEL_1de1f0e48d9a4d0e8885b96013387e97"
      }
     },
     "6d204b960c584bb38775172339c9dc86": {
      "model_module": "@jupyter-widgets/base",
      "model_module_version": "1.2.0",
      "model_name": "LayoutModel",
      "state": {}
     },
     "7598d97bd95b4fdd96bd1c34c9bb5480": {
      "model_module": "@jupyter-widgets/controls",
      "model_module_version": "1.5.0",
      "model_name": "DescriptionStyleModel",
      "state": {
       "description_width": ""
      }
     },
     "7d336ee82c604b28936a94bd15a05c9f": {
      "model_module": "@jupyter-widgets/controls",
      "model_module_version": "1.5.0",
      "model_name": "DropdownModel",
      "state": {
       "_options_labels": [
        "Select",
        "All"
       ],
       "description": "County",
       "index": 0,
       "layout": "IPY_MODEL_f8ce2009edab4285801674a224ac42ee",
       "style": "IPY_MODEL_1a7ff8d578104768a39600b0c8f9a79c"
      }
     },
     "8253f24b43f948dc82931a240d82c363": {
      "model_module": "@jupyter-widgets/controls",
      "model_module_version": "1.5.0",
      "model_name": "DropdownModel",
      "state": {
       "_options_labels": [
        "Select",
        "President",
        "Governors",
        "Senate"
       ],
       "description": "ElectType:",
       "index": 1,
       "layout": "IPY_MODEL_42a2b355bafc4aa2a3806b5c15b3d1b7",
       "style": "IPY_MODEL_aed58ddec86c46e8b2f36bdefabe4b36"
      }
     },
     "865b5ea31b1c463fa0c3b09df455e051": {
      "model_module": "@jupyter-widgets/output",
      "model_module_version": "1.0.0",
      "model_name": "OutputModel",
      "state": {
       "layout": "IPY_MODEL_20ff2d3224e24c90bab0c054f4af51cb",
       "outputs": [
        {
         "data": {
          "application/vnd.plotly.v1+json": {
           "config": {
            "plotlyServerURL": "https://plot.ly"
           },
           "data": [
            {
             "domain": {
              "x": [
               0,
               0.45
              ],
              "y": [
               0,
               1
              ]
             },
             "labels": [
              "DEM",
              "REP",
              "LIB",
              "GRN",
              "WRI",
              "IND",
              "ALI",
              "PSL",
              "CST",
              "ASP",
              "NON",
              "SWP",
              "UTY",
              "BAR",
              "PRG",
              "PRO",
              "UNA",
              "LLP",
              "GOP",
              "IAP",
              "LLC",
              "OTH",
              "APV",
              "SEP",
              "BFP",
              "BMP"
             ],
             "marker": {
              "colors": [
               "#AA0DFE",
               "#3283FE",
               "#85660D",
               "#782AB6",
               "#565656",
               "#1C8356",
               "#16FF32",
               "#F7E1A0",
               "#E2E2E2",
               "#1CBE4F",
               "#C4451C",
               "#DEA0FD",
               "#FE00FA",
               "#325A9B",
               "#FEAF16",
               "#F8A19F",
               "#90AD1C",
               "#F6222E",
               "#1CFFCE",
               "#2ED9FF",
               "#B10DA1",
               "#C075A6",
               "#FC1CBF",
               "#B00068",
               "#FBE426",
               "#FA0087"
              ]
             },
             "type": "pie",
             "values": [
              80127226,
              73889906,
              1851594,
              394261,
              168838,
              123188,
              86337,
              83629,
              62215,
              25010,
              14079,
              6781,
              6566,
              5705,
              5325,
              4812,
              3513,
              1365,
              1175,
              815,
              668,
              547,
              409,
              196,
              141,
              126
             ]
            },
            {
             "marker": {
              "color": [
               "#AA0DFE",
               "#3283FE",
               "#85660D",
               "#782AB6",
               "#565656",
               "#1C8356",
               "#16FF32",
               "#F7E1A0",
               "#E2E2E2",
               "#1CBE4F",
               "#C4451C",
               "#DEA0FD",
               "#FE00FA",
               "#325A9B",
               "#FEAF16",
               "#F8A19F",
               "#90AD1C",
               "#F6222E",
               "#1CFFCE",
               "#2ED9FF",
               "#B10DA1",
               "#C075A6",
               "#FC1CBF",
               "#B00068",
               "#FBE426",
               "#FA0087"
              ]
             },
             "type": "bar",
             "x": [
              "DEM",
              "REP",
              "LIB",
              "GRN",
              "WRI",
              "IND",
              "ALI",
              "PSL",
              "CST",
              "ASP",
              "NON",
              "SWP",
              "UTY",
              "BAR",
              "PRG",
              "PRO",
              "UNA",
              "LLP",
              "GOP",
              "IAP",
              "LLC",
              "OTH",
              "APV",
              "SEP",
              "BFP",
              "BMP"
             ],
             "xaxis": "x",
             "y": [
              80127226,
              73889906,
              1851594,
              394261,
              168838,
              123188,
              86337,
              83629,
              62215,
              25010,
              14079,
              6781,
              6566,
              5705,
              5325,
              4812,
              3513,
              1365,
              1175,
              815,
              668,
              547,
              409,
              196,
              141,
              126
             ],
             "yaxis": "y"
            }
           ],
           "layout": {
            "showlegend": true,
            "template": {
             "data": {
              "bar": [
               {
                "error_x": {
                 "color": "#2a3f5f"
                },
                "error_y": {
                 "color": "#2a3f5f"
                },
                "marker": {
                 "line": {
                  "color": "#E5ECF6",
                  "width": 0.5
                 }
                },
                "type": "bar"
               }
              ],
              "barpolar": [
               {
                "marker": {
                 "line": {
                  "color": "#E5ECF6",
                  "width": 0.5
                 }
                },
                "type": "barpolar"
               }
              ],
              "carpet": [
               {
                "aaxis": {
                 "endlinecolor": "#2a3f5f",
                 "gridcolor": "white",
                 "linecolor": "white",
                 "minorgridcolor": "white",
                 "startlinecolor": "#2a3f5f"
                },
                "baxis": {
                 "endlinecolor": "#2a3f5f",
                 "gridcolor": "white",
                 "linecolor": "white",
                 "minorgridcolor": "white",
                 "startlinecolor": "#2a3f5f"
                },
                "type": "carpet"
               }
              ],
              "choropleth": [
               {
                "colorbar": {
                 "outlinewidth": 0,
                 "ticks": ""
                },
                "type": "choropleth"
               }
              ],
              "contour": [
               {
                "colorbar": {
                 "outlinewidth": 0,
                 "ticks": ""
                },
                "colorscale": [
                 [
                  0,
                  "#0d0887"
                 ],
                 [
                  0.1111111111111111,
                  "#46039f"
                 ],
                 [
                  0.2222222222222222,
                  "#7201a8"
                 ],
                 [
                  0.3333333333333333,
                  "#9c179e"
                 ],
                 [
                  0.4444444444444444,
                  "#bd3786"
                 ],
                 [
                  0.5555555555555556,
                  "#d8576b"
                 ],
                 [
                  0.6666666666666666,
                  "#ed7953"
                 ],
                 [
                  0.7777777777777778,
                  "#fb9f3a"
                 ],
                 [
                  0.8888888888888888,
                  "#fdca26"
                 ],
                 [
                  1,
                  "#f0f921"
                 ]
                ],
                "type": "contour"
               }
              ],
              "contourcarpet": [
               {
                "colorbar": {
                 "outlinewidth": 0,
                 "ticks": ""
                },
                "type": "contourcarpet"
               }
              ],
              "heatmap": [
               {
                "colorbar": {
                 "outlinewidth": 0,
                 "ticks": ""
                },
                "colorscale": [
                 [
                  0,
                  "#0d0887"
                 ],
                 [
                  0.1111111111111111,
                  "#46039f"
                 ],
                 [
                  0.2222222222222222,
                  "#7201a8"
                 ],
                 [
                  0.3333333333333333,
                  "#9c179e"
                 ],
                 [
                  0.4444444444444444,
                  "#bd3786"
                 ],
                 [
                  0.5555555555555556,
                  "#d8576b"
                 ],
                 [
                  0.6666666666666666,
                  "#ed7953"
                 ],
                 [
                  0.7777777777777778,
                  "#fb9f3a"
                 ],
                 [
                  0.8888888888888888,
                  "#fdca26"
                 ],
                 [
                  1,
                  "#f0f921"
                 ]
                ],
                "type": "heatmap"
               }
              ],
              "heatmapgl": [
               {
                "colorbar": {
                 "outlinewidth": 0,
                 "ticks": ""
                },
                "colorscale": [
                 [
                  0,
                  "#0d0887"
                 ],
                 [
                  0.1111111111111111,
                  "#46039f"
                 ],
                 [
                  0.2222222222222222,
                  "#7201a8"
                 ],
                 [
                  0.3333333333333333,
                  "#9c179e"
                 ],
                 [
                  0.4444444444444444,
                  "#bd3786"
                 ],
                 [
                  0.5555555555555556,
                  "#d8576b"
                 ],
                 [
                  0.6666666666666666,
                  "#ed7953"
                 ],
                 [
                  0.7777777777777778,
                  "#fb9f3a"
                 ],
                 [
                  0.8888888888888888,
                  "#fdca26"
                 ],
                 [
                  1,
                  "#f0f921"
                 ]
                ],
                "type": "heatmapgl"
               }
              ],
              "histogram": [
               {
                "marker": {
                 "colorbar": {
                  "outlinewidth": 0,
                  "ticks": ""
                 }
                },
                "type": "histogram"
               }
              ],
              "histogram2d": [
               {
                "colorbar": {
                 "outlinewidth": 0,
                 "ticks": ""
                },
                "colorscale": [
                 [
                  0,
                  "#0d0887"
                 ],
                 [
                  0.1111111111111111,
                  "#46039f"
                 ],
                 [
                  0.2222222222222222,
                  "#7201a8"
                 ],
                 [
                  0.3333333333333333,
                  "#9c179e"
                 ],
                 [
                  0.4444444444444444,
                  "#bd3786"
                 ],
                 [
                  0.5555555555555556,
                  "#d8576b"
                 ],
                 [
                  0.6666666666666666,
                  "#ed7953"
                 ],
                 [
                  0.7777777777777778,
                  "#fb9f3a"
                 ],
                 [
                  0.8888888888888888,
                  "#fdca26"
                 ],
                 [
                  1,
                  "#f0f921"
                 ]
                ],
                "type": "histogram2d"
               }
              ],
              "histogram2dcontour": [
               {
                "colorbar": {
                 "outlinewidth": 0,
                 "ticks": ""
                },
                "colorscale": [
                 [
                  0,
                  "#0d0887"
                 ],
                 [
                  0.1111111111111111,
                  "#46039f"
                 ],
                 [
                  0.2222222222222222,
                  "#7201a8"
                 ],
                 [
                  0.3333333333333333,
                  "#9c179e"
                 ],
                 [
                  0.4444444444444444,
                  "#bd3786"
                 ],
                 [
                  0.5555555555555556,
                  "#d8576b"
                 ],
                 [
                  0.6666666666666666,
                  "#ed7953"
                 ],
                 [
                  0.7777777777777778,
                  "#fb9f3a"
                 ],
                 [
                  0.8888888888888888,
                  "#fdca26"
                 ],
                 [
                  1,
                  "#f0f921"
                 ]
                ],
                "type": "histogram2dcontour"
               }
              ],
              "mesh3d": [
               {
                "colorbar": {
                 "outlinewidth": 0,
                 "ticks": ""
                },
                "type": "mesh3d"
               }
              ],
              "parcoords": [
               {
                "line": {
                 "colorbar": {
                  "outlinewidth": 0,
                  "ticks": ""
                 }
                },
                "type": "parcoords"
               }
              ],
              "pie": [
               {
                "automargin": true,
                "type": "pie"
               }
              ],
              "scatter": [
               {
                "marker": {
                 "colorbar": {
                  "outlinewidth": 0,
                  "ticks": ""
                 }
                },
                "type": "scatter"
               }
              ],
              "scatter3d": [
               {
                "line": {
                 "colorbar": {
                  "outlinewidth": 0,
                  "ticks": ""
                 }
                },
                "marker": {
                 "colorbar": {
                  "outlinewidth": 0,
                  "ticks": ""
                 }
                },
                "type": "scatter3d"
               }
              ],
              "scattercarpet": [
               {
                "marker": {
                 "colorbar": {
                  "outlinewidth": 0,
                  "ticks": ""
                 }
                },
                "type": "scattercarpet"
               }
              ],
              "scattergeo": [
               {
                "marker": {
                 "colorbar": {
                  "outlinewidth": 0,
                  "ticks": ""
                 }
                },
                "type": "scattergeo"
               }
              ],
              "scattergl": [
               {
                "marker": {
                 "colorbar": {
                  "outlinewidth": 0,
                  "ticks": ""
                 }
                },
                "type": "scattergl"
               }
              ],
              "scattermapbox": [
               {
                "marker": {
                 "colorbar": {
                  "outlinewidth": 0,
                  "ticks": ""
                 }
                },
                "type": "scattermapbox"
               }
              ],
              "scatterpolar": [
               {
                "marker": {
                 "colorbar": {
                  "outlinewidth": 0,
                  "ticks": ""
                 }
                },
                "type": "scatterpolar"
               }
              ],
              "scatterpolargl": [
               {
                "marker": {
                 "colorbar": {
                  "outlinewidth": 0,
                  "ticks": ""
                 }
                },
                "type": "scatterpolargl"
               }
              ],
              "scatterternary": [
               {
                "marker": {
                 "colorbar": {
                  "outlinewidth": 0,
                  "ticks": ""
                 }
                },
                "type": "scatterternary"
               }
              ],
              "surface": [
               {
                "colorbar": {
                 "outlinewidth": 0,
                 "ticks": ""
                },
                "colorscale": [
                 [
                  0,
                  "#0d0887"
                 ],
                 [
                  0.1111111111111111,
                  "#46039f"
                 ],
                 [
                  0.2222222222222222,
                  "#7201a8"
                 ],
                 [
                  0.3333333333333333,
                  "#9c179e"
                 ],
                 [
                  0.4444444444444444,
                  "#bd3786"
                 ],
                 [
                  0.5555555555555556,
                  "#d8576b"
                 ],
                 [
                  0.6666666666666666,
                  "#ed7953"
                 ],
                 [
                  0.7777777777777778,
                  "#fb9f3a"
                 ],
                 [
                  0.8888888888888888,
                  "#fdca26"
                 ],
                 [
                  1,
                  "#f0f921"
                 ]
                ],
                "type": "surface"
               }
              ],
              "table": [
               {
                "cells": {
                 "fill": {
                  "color": "#EBF0F8"
                 },
                 "line": {
                  "color": "white"
                 }
                },
                "header": {
                 "fill": {
                  "color": "#C8D4E3"
                 },
                 "line": {
                  "color": "white"
                 }
                },
                "type": "table"
               }
              ]
             },
             "layout": {
              "annotationdefaults": {
               "arrowcolor": "#2a3f5f",
               "arrowhead": 0,
               "arrowwidth": 1
              },
              "coloraxis": {
               "colorbar": {
                "outlinewidth": 0,
                "ticks": ""
               }
              },
              "colorscale": {
               "diverging": [
                [
                 0,
                 "#8e0152"
                ],
                [
                 0.1,
                 "#c51b7d"
                ],
                [
                 0.2,
                 "#de77ae"
                ],
                [
                 0.3,
                 "#f1b6da"
                ],
                [
                 0.4,
                 "#fde0ef"
                ],
                [
                 0.5,
                 "#f7f7f7"
                ],
                [
                 0.6,
                 "#e6f5d0"
                ],
                [
                 0.7,
                 "#b8e186"
                ],
                [
                 0.8,
                 "#7fbc41"
                ],
                [
                 0.9,
                 "#4d9221"
                ],
                [
                 1,
                 "#276419"
                ]
               ],
               "sequential": [
                [
                 0,
                 "#0d0887"
                ],
                [
                 0.1111111111111111,
                 "#46039f"
                ],
                [
                 0.2222222222222222,
                 "#7201a8"
                ],
                [
                 0.3333333333333333,
                 "#9c179e"
                ],
                [
                 0.4444444444444444,
                 "#bd3786"
                ],
                [
                 0.5555555555555556,
                 "#d8576b"
                ],
                [
                 0.6666666666666666,
                 "#ed7953"
                ],
                [
                 0.7777777777777778,
                 "#fb9f3a"
                ],
                [
                 0.8888888888888888,
                 "#fdca26"
                ],
                [
                 1,
                 "#f0f921"
                ]
               ],
               "sequentialminus": [
                [
                 0,
                 "#0d0887"
                ],
                [
                 0.1111111111111111,
                 "#46039f"
                ],
                [
                 0.2222222222222222,
                 "#7201a8"
                ],
                [
                 0.3333333333333333,
                 "#9c179e"
                ],
                [
                 0.4444444444444444,
                 "#bd3786"
                ],
                [
                 0.5555555555555556,
                 "#d8576b"
                ],
                [
                 0.6666666666666666,
                 "#ed7953"
                ],
                [
                 0.7777777777777778,
                 "#fb9f3a"
                ],
                [
                 0.8888888888888888,
                 "#fdca26"
                ],
                [
                 1,
                 "#f0f921"
                ]
               ]
              },
              "colorway": [
               "#636efa",
               "#EF553B",
               "#00cc96",
               "#ab63fa",
               "#FFA15A",
               "#19d3f3",
               "#FF6692",
               "#B6E880",
               "#FF97FF",
               "#FECB52"
              ],
              "font": {
               "color": "#2a3f5f"
              },
              "geo": {
               "bgcolor": "white",
               "lakecolor": "white",
               "landcolor": "#E5ECF6",
               "showlakes": true,
               "showland": true,
               "subunitcolor": "white"
              },
              "hoverlabel": {
               "align": "left"
              },
              "hovermode": "closest",
              "mapbox": {
               "style": "light"
              },
              "paper_bgcolor": "white",
              "plot_bgcolor": "#E5ECF6",
              "polar": {
               "angularaxis": {
                "gridcolor": "white",
                "linecolor": "white",
                "ticks": ""
               },
               "bgcolor": "#E5ECF6",
               "radialaxis": {
                "gridcolor": "white",
                "linecolor": "white",
                "ticks": ""
               }
              },
              "scene": {
               "xaxis": {
                "backgroundcolor": "#E5ECF6",
                "gridcolor": "white",
                "gridwidth": 2,
                "linecolor": "white",
                "showbackground": true,
                "ticks": "",
                "zerolinecolor": "white"
               },
               "yaxis": {
                "backgroundcolor": "#E5ECF6",
                "gridcolor": "white",
                "gridwidth": 2,
                "linecolor": "white",
                "showbackground": true,
                "ticks": "",
                "zerolinecolor": "white"
               },
               "zaxis": {
                "backgroundcolor": "#E5ECF6",
                "gridcolor": "white",
                "gridwidth": 2,
                "linecolor": "white",
                "showbackground": true,
                "ticks": "",
                "zerolinecolor": "white"
               }
              },
              "shapedefaults": {
               "line": {
                "color": "#2a3f5f"
               }
              },
              "ternary": {
               "aaxis": {
                "gridcolor": "white",
                "linecolor": "white",
                "ticks": ""
               },
               "baxis": {
                "gridcolor": "white",
                "linecolor": "white",
                "ticks": ""
               },
               "bgcolor": "#E5ECF6",
               "caxis": {
                "gridcolor": "white",
                "linecolor": "white",
                "ticks": ""
               }
              },
              "title": {
               "x": 0.05
              },
              "xaxis": {
               "automargin": true,
               "gridcolor": "white",
               "linecolor": "white",
               "ticks": "",
               "title": {
                "standoff": 15
               },
               "zerolinecolor": "white",
               "zerolinewidth": 2
              },
              "yaxis": {
               "automargin": true,
               "gridcolor": "white",
               "linecolor": "white",
               "ticks": "",
               "title": {
                "standoff": 15
               },
               "zerolinecolor": "white",
               "zerolinewidth": 2
              }
             }
            },
            "title": {
             "text": "Party Vote Comparison"
            },
            "xaxis": {
             "anchor": "y",
             "domain": [
              0.55,
              1
             ]
            },
            "yaxis": {
             "anchor": "x",
             "domain": [
              0,
              1
             ]
            }
           }
          },
          "text/html": "<div>                            <div id=\"d803c907-7abd-447c-b1d4-eef654e856f0\" class=\"plotly-graph-div\" style=\"height:525px; width:100%;\"></div>            <script type=\"text/javascript\">                require([\"plotly\"], function(Plotly) {                    window.PLOTLYENV=window.PLOTLYENV || {};                                    if (document.getElementById(\"d803c907-7abd-447c-b1d4-eef654e856f0\")) {                    Plotly.newPlot(                        \"d803c907-7abd-447c-b1d4-eef654e856f0\",                        [{\"domain\": {\"x\": [0.0, 0.45], \"y\": [0.0, 1.0]}, \"labels\": [\"DEM\", \"REP\", \"LIB\", \"GRN\", \"WRI\", \"IND\", \"ALI\", \"PSL\", \"CST\", \"ASP\", \"NON\", \"SWP\", \"UTY\", \"BAR\", \"PRG\", \"PRO\", \"UNA\", \"LLP\", \"GOP\", \"IAP\", \"LLC\", \"OTH\", \"APV\", \"SEP\", \"BFP\", \"BMP\"], \"marker\": {\"colors\": [\"#AA0DFE\", \"#3283FE\", \"#85660D\", \"#782AB6\", \"#565656\", \"#1C8356\", \"#16FF32\", \"#F7E1A0\", \"#E2E2E2\", \"#1CBE4F\", \"#C4451C\", \"#DEA0FD\", \"#FE00FA\", \"#325A9B\", \"#FEAF16\", \"#F8A19F\", \"#90AD1C\", \"#F6222E\", \"#1CFFCE\", \"#2ED9FF\", \"#B10DA1\", \"#C075A6\", \"#FC1CBF\", \"#B00068\", \"#FBE426\", \"#FA0087\"]}, \"type\": \"pie\", \"values\": [80127226, 73889906, 1851594, 394261, 168838, 123188, 86337, 83629, 62215, 25010, 14079, 6781, 6566, 5705, 5325, 4812, 3513, 1365, 1175, 815, 668, 547, 409, 196, 141, 126]}, {\"marker\": {\"color\": [\"#AA0DFE\", \"#3283FE\", \"#85660D\", \"#782AB6\", \"#565656\", \"#1C8356\", \"#16FF32\", \"#F7E1A0\", \"#E2E2E2\", \"#1CBE4F\", \"#C4451C\", \"#DEA0FD\", \"#FE00FA\", \"#325A9B\", \"#FEAF16\", \"#F8A19F\", \"#90AD1C\", \"#F6222E\", \"#1CFFCE\", \"#2ED9FF\", \"#B10DA1\", \"#C075A6\", \"#FC1CBF\", \"#B00068\", \"#FBE426\", \"#FA0087\"]}, \"type\": \"bar\", \"x\": [\"DEM\", \"REP\", \"LIB\", \"GRN\", \"WRI\", \"IND\", \"ALI\", \"PSL\", \"CST\", \"ASP\", \"NON\", \"SWP\", \"UTY\", \"BAR\", \"PRG\", \"PRO\", \"UNA\", \"LLP\", \"GOP\", \"IAP\", \"LLC\", \"OTH\", \"APV\", \"SEP\", \"BFP\", \"BMP\"], \"xaxis\": \"x\", \"y\": [80127226, 73889906, 1851594, 394261, 168838, 123188, 86337, 83629, 62215, 25010, 14079, 6781, 6566, 5705, 5325, 4812, 3513, 1365, 1175, 815, 668, 547, 409, 196, 141, 126], \"yaxis\": \"y\"}],                        {\"showlegend\": true, \"template\": {\"data\": {\"bar\": [{\"error_x\": {\"color\": \"#2a3f5f\"}, \"error_y\": {\"color\": \"#2a3f5f\"}, \"marker\": {\"line\": {\"color\": \"#E5ECF6\", \"width\": 0.5}}, \"type\": \"bar\"}], \"barpolar\": [{\"marker\": {\"line\": {\"color\": \"#E5ECF6\", \"width\": 0.5}}, \"type\": \"barpolar\"}], \"carpet\": [{\"aaxis\": {\"endlinecolor\": \"#2a3f5f\", \"gridcolor\": \"white\", \"linecolor\": \"white\", \"minorgridcolor\": \"white\", \"startlinecolor\": \"#2a3f5f\"}, \"baxis\": {\"endlinecolor\": \"#2a3f5f\", \"gridcolor\": \"white\", \"linecolor\": \"white\", \"minorgridcolor\": \"white\", \"startlinecolor\": \"#2a3f5f\"}, \"type\": \"carpet\"}], \"choropleth\": [{\"colorbar\": {\"outlinewidth\": 0, \"ticks\": \"\"}, \"type\": \"choropleth\"}], \"contour\": [{\"colorbar\": {\"outlinewidth\": 0, \"ticks\": \"\"}, \"colorscale\": [[0.0, \"#0d0887\"], [0.1111111111111111, \"#46039f\"], [0.2222222222222222, \"#7201a8\"], [0.3333333333333333, \"#9c179e\"], [0.4444444444444444, \"#bd3786\"], [0.5555555555555556, \"#d8576b\"], [0.6666666666666666, \"#ed7953\"], [0.7777777777777778, \"#fb9f3a\"], [0.8888888888888888, \"#fdca26\"], [1.0, \"#f0f921\"]], \"type\": \"contour\"}], \"contourcarpet\": [{\"colorbar\": {\"outlinewidth\": 0, \"ticks\": \"\"}, \"type\": \"contourcarpet\"}], \"heatmap\": [{\"colorbar\": {\"outlinewidth\": 0, \"ticks\": \"\"}, \"colorscale\": [[0.0, \"#0d0887\"], [0.1111111111111111, \"#46039f\"], [0.2222222222222222, \"#7201a8\"], [0.3333333333333333, \"#9c179e\"], [0.4444444444444444, \"#bd3786\"], [0.5555555555555556, \"#d8576b\"], [0.6666666666666666, \"#ed7953\"], [0.7777777777777778, \"#fb9f3a\"], [0.8888888888888888, \"#fdca26\"], [1.0, \"#f0f921\"]], \"type\": \"heatmap\"}], \"heatmapgl\": [{\"colorbar\": {\"outlinewidth\": 0, \"ticks\": \"\"}, \"colorscale\": [[0.0, \"#0d0887\"], [0.1111111111111111, \"#46039f\"], [0.2222222222222222, \"#7201a8\"], [0.3333333333333333, \"#9c179e\"], [0.4444444444444444, \"#bd3786\"], [0.5555555555555556, \"#d8576b\"], [0.6666666666666666, \"#ed7953\"], [0.7777777777777778, \"#fb9f3a\"], [0.8888888888888888, \"#fdca26\"], [1.0, \"#f0f921\"]], \"type\": \"heatmapgl\"}], \"histogram\": [{\"marker\": {\"colorbar\": {\"outlinewidth\": 0, \"ticks\": \"\"}}, \"type\": \"histogram\"}], \"histogram2d\": [{\"colorbar\": {\"outlinewidth\": 0, \"ticks\": \"\"}, \"colorscale\": [[0.0, \"#0d0887\"], [0.1111111111111111, \"#46039f\"], [0.2222222222222222, \"#7201a8\"], [0.3333333333333333, \"#9c179e\"], [0.4444444444444444, \"#bd3786\"], [0.5555555555555556, \"#d8576b\"], [0.6666666666666666, \"#ed7953\"], [0.7777777777777778, \"#fb9f3a\"], [0.8888888888888888, \"#fdca26\"], [1.0, \"#f0f921\"]], \"type\": \"histogram2d\"}], \"histogram2dcontour\": [{\"colorbar\": {\"outlinewidth\": 0, \"ticks\": \"\"}, \"colorscale\": [[0.0, \"#0d0887\"], [0.1111111111111111, \"#46039f\"], [0.2222222222222222, \"#7201a8\"], [0.3333333333333333, \"#9c179e\"], [0.4444444444444444, \"#bd3786\"], [0.5555555555555556, \"#d8576b\"], [0.6666666666666666, \"#ed7953\"], [0.7777777777777778, \"#fb9f3a\"], [0.8888888888888888, \"#fdca26\"], [1.0, \"#f0f921\"]], \"type\": \"histogram2dcontour\"}], \"mesh3d\": [{\"colorbar\": {\"outlinewidth\": 0, \"ticks\": \"\"}, \"type\": \"mesh3d\"}], \"parcoords\": [{\"line\": {\"colorbar\": {\"outlinewidth\": 0, \"ticks\": \"\"}}, \"type\": \"parcoords\"}], \"pie\": [{\"automargin\": true, \"type\": \"pie\"}], \"scatter\": [{\"marker\": {\"colorbar\": {\"outlinewidth\": 0, \"ticks\": \"\"}}, \"type\": \"scatter\"}], \"scatter3d\": [{\"line\": {\"colorbar\": {\"outlinewidth\": 0, \"ticks\": \"\"}}, \"marker\": {\"colorbar\": {\"outlinewidth\": 0, \"ticks\": \"\"}}, \"type\": \"scatter3d\"}], \"scattercarpet\": [{\"marker\": {\"colorbar\": {\"outlinewidth\": 0, \"ticks\": \"\"}}, \"type\": \"scattercarpet\"}], \"scattergeo\": [{\"marker\": {\"colorbar\": {\"outlinewidth\": 0, \"ticks\": \"\"}}, \"type\": \"scattergeo\"}], \"scattergl\": [{\"marker\": {\"colorbar\": {\"outlinewidth\": 0, \"ticks\": \"\"}}, \"type\": \"scattergl\"}], \"scattermapbox\": [{\"marker\": {\"colorbar\": {\"outlinewidth\": 0, \"ticks\": \"\"}}, \"type\": \"scattermapbox\"}], \"scatterpolar\": [{\"marker\": {\"colorbar\": {\"outlinewidth\": 0, \"ticks\": \"\"}}, \"type\": \"scatterpolar\"}], \"scatterpolargl\": [{\"marker\": {\"colorbar\": {\"outlinewidth\": 0, \"ticks\": \"\"}}, \"type\": \"scatterpolargl\"}], \"scatterternary\": [{\"marker\": {\"colorbar\": {\"outlinewidth\": 0, \"ticks\": \"\"}}, \"type\": \"scatterternary\"}], \"surface\": [{\"colorbar\": {\"outlinewidth\": 0, \"ticks\": \"\"}, \"colorscale\": [[0.0, \"#0d0887\"], [0.1111111111111111, \"#46039f\"], [0.2222222222222222, \"#7201a8\"], [0.3333333333333333, \"#9c179e\"], [0.4444444444444444, \"#bd3786\"], [0.5555555555555556, \"#d8576b\"], [0.6666666666666666, \"#ed7953\"], [0.7777777777777778, \"#fb9f3a\"], [0.8888888888888888, \"#fdca26\"], [1.0, \"#f0f921\"]], \"type\": \"surface\"}], \"table\": [{\"cells\": {\"fill\": {\"color\": \"#EBF0F8\"}, \"line\": {\"color\": \"white\"}}, \"header\": {\"fill\": {\"color\": \"#C8D4E3\"}, \"line\": {\"color\": \"white\"}}, \"type\": \"table\"}]}, \"layout\": {\"annotationdefaults\": {\"arrowcolor\": \"#2a3f5f\", \"arrowhead\": 0, \"arrowwidth\": 1}, \"coloraxis\": {\"colorbar\": {\"outlinewidth\": 0, \"ticks\": \"\"}}, \"colorscale\": {\"diverging\": [[0, \"#8e0152\"], [0.1, \"#c51b7d\"], [0.2, \"#de77ae\"], [0.3, \"#f1b6da\"], [0.4, \"#fde0ef\"], [0.5, \"#f7f7f7\"], [0.6, \"#e6f5d0\"], [0.7, \"#b8e186\"], [0.8, \"#7fbc41\"], [0.9, \"#4d9221\"], [1, \"#276419\"]], \"sequential\": [[0.0, \"#0d0887\"], [0.1111111111111111, \"#46039f\"], [0.2222222222222222, \"#7201a8\"], [0.3333333333333333, \"#9c179e\"], [0.4444444444444444, \"#bd3786\"], [0.5555555555555556, \"#d8576b\"], [0.6666666666666666, \"#ed7953\"], [0.7777777777777778, \"#fb9f3a\"], [0.8888888888888888, \"#fdca26\"], [1.0, \"#f0f921\"]], \"sequentialminus\": [[0.0, \"#0d0887\"], [0.1111111111111111, \"#46039f\"], [0.2222222222222222, \"#7201a8\"], [0.3333333333333333, \"#9c179e\"], [0.4444444444444444, \"#bd3786\"], [0.5555555555555556, \"#d8576b\"], [0.6666666666666666, \"#ed7953\"], [0.7777777777777778, \"#fb9f3a\"], [0.8888888888888888, \"#fdca26\"], [1.0, \"#f0f921\"]]}, \"colorway\": [\"#636efa\", \"#EF553B\", \"#00cc96\", \"#ab63fa\", \"#FFA15A\", \"#19d3f3\", \"#FF6692\", \"#B6E880\", \"#FF97FF\", \"#FECB52\"], \"font\": {\"color\": \"#2a3f5f\"}, \"geo\": {\"bgcolor\": \"white\", \"lakecolor\": \"white\", \"landcolor\": \"#E5ECF6\", \"showlakes\": true, \"showland\": true, \"subunitcolor\": \"white\"}, \"hoverlabel\": {\"align\": \"left\"}, \"hovermode\": \"closest\", \"mapbox\": {\"style\": \"light\"}, \"paper_bgcolor\": \"white\", \"plot_bgcolor\": \"#E5ECF6\", \"polar\": {\"angularaxis\": {\"gridcolor\": \"white\", \"linecolor\": \"white\", \"ticks\": \"\"}, \"bgcolor\": \"#E5ECF6\", \"radialaxis\": {\"gridcolor\": \"white\", \"linecolor\": \"white\", \"ticks\": \"\"}}, \"scene\": {\"xaxis\": {\"backgroundcolor\": \"#E5ECF6\", \"gridcolor\": \"white\", \"gridwidth\": 2, \"linecolor\": \"white\", \"showbackground\": true, \"ticks\": \"\", \"zerolinecolor\": \"white\"}, \"yaxis\": {\"backgroundcolor\": \"#E5ECF6\", \"gridcolor\": \"white\", \"gridwidth\": 2, \"linecolor\": \"white\", \"showbackground\": true, \"ticks\": \"\", \"zerolinecolor\": \"white\"}, \"zaxis\": {\"backgroundcolor\": \"#E5ECF6\", \"gridcolor\": \"white\", \"gridwidth\": 2, \"linecolor\": \"white\", \"showbackground\": true, \"ticks\": \"\", \"zerolinecolor\": \"white\"}}, \"shapedefaults\": {\"line\": {\"color\": \"#2a3f5f\"}}, \"ternary\": {\"aaxis\": {\"gridcolor\": \"white\", \"linecolor\": \"white\", \"ticks\": \"\"}, \"baxis\": {\"gridcolor\": \"white\", \"linecolor\": \"white\", \"ticks\": \"\"}, \"bgcolor\": \"#E5ECF6\", \"caxis\": {\"gridcolor\": \"white\", \"linecolor\": \"white\", \"ticks\": \"\"}}, \"title\": {\"x\": 0.05}, \"xaxis\": {\"automargin\": true, \"gridcolor\": \"white\", \"linecolor\": \"white\", \"ticks\": \"\", \"title\": {\"standoff\": 15}, \"zerolinecolor\": \"white\", \"zerolinewidth\": 2}, \"yaxis\": {\"automargin\": true, \"gridcolor\": \"white\", \"linecolor\": \"white\", \"ticks\": \"\", \"title\": {\"standoff\": 15}, \"zerolinecolor\": \"white\", \"zerolinewidth\": 2}}}, \"title\": {\"text\": \"Party Vote Comparison\"}, \"xaxis\": {\"anchor\": \"y\", \"domain\": [0.55, 1.0]}, \"yaxis\": {\"anchor\": \"x\", \"domain\": [0.0, 1.0]}},                        {\"responsive\": true}                    ).then(function(){\n                            \nvar gd = document.getElementById('d803c907-7abd-447c-b1d4-eef654e856f0');\nvar x = new MutationObserver(function (mutations, observer) {{\n        var display = window.getComputedStyle(gd).display;\n        if (!display || display === 'none') {{\n            console.log([gd, 'removed!']);\n            Plotly.purge(gd);\n            observer.disconnect();\n        }}\n}});\n\n// Listen for the removal of the full notebook cells\nvar notebookContainer = gd.closest('#notebook-container');\nif (notebookContainer) {{\n    x.observe(notebookContainer, {childList: true});\n}}\n\n// Listen for the clearing of the current output cell\nvar outputEl = gd.closest('.output');\nif (outputEl) {{\n    x.observe(outputEl, {childList: true});\n}}\n\n                        })                };                });            </script>        </div>"
         },
         "metadata": {},
         "output_type": "display_data"
        }
       ]
      }
     },
     "8c2281650f0042f6aec9dc7345093bc3": {
      "model_module": "@jupyter-widgets/base",
      "model_module_version": "1.2.0",
      "model_name": "LayoutModel",
      "state": {}
     },
     "9046ba2570e84003967f25572b736746": {
      "model_module": "@jupyter-widgets/base",
      "model_module_version": "1.2.0",
      "model_name": "LayoutModel",
      "state": {}
     },
     "94d2ea7df43447499997ed0c28437e3c": {
      "model_module": "@jupyter-widgets/controls",
      "model_module_version": "1.5.0",
      "model_name": "VBoxModel",
      "state": {
       "_dom_classes": [
        "widget-interact"
       ],
       "children": [
        "IPY_MODEL_8253f24b43f948dc82931a240d82c363",
        "IPY_MODEL_3fb72004bfed42e5aabfbdcf216914c5",
        "IPY_MODEL_9a42cecaeb3c46f2b6ceee8b73f3cd18",
        "IPY_MODEL_c5b57d4134f348b390902b07c442b61c"
       ],
       "layout": "IPY_MODEL_d1d85f7a2b374b749c9566707c16864c"
      }
     },
     "9a42cecaeb3c46f2b6ceee8b73f3cd18": {
      "model_module": "@jupyter-widgets/controls",
      "model_module_version": "1.5.0",
      "model_name": "DropdownModel",
      "state": {
       "_options_labels": [
        "Select",
        "All"
       ],
       "description": "County",
       "index": 1,
       "layout": "IPY_MODEL_2aad2265afbe4f9aad31cad407d379f7",
       "style": "IPY_MODEL_7598d97bd95b4fdd96bd1c34c9bb5480"
      }
     },
     "aed58ddec86c46e8b2f36bdefabe4b36": {
      "model_module": "@jupyter-widgets/controls",
      "model_module_version": "1.5.0",
      "model_name": "DescriptionStyleModel",
      "state": {
       "description_width": ""
      }
     },
     "c5b57d4134f348b390902b07c442b61c": {
      "model_module": "@jupyter-widgets/output",
      "model_module_version": "1.0.0",
      "model_name": "OutputModel",
      "state": {
       "layout": "IPY_MODEL_6d204b960c584bb38775172339c9dc86",
       "outputs": [
        {
         "data": {
          "application/vnd.plotly.v1+json": {
           "config": {
            "plotlyServerURL": "https://plot.ly"
           },
           "data": [
            {
             "type": "scatter",
             "x": [
              "Alabama",
              "Alaska",
              "Arizona",
              "Arkansas",
              "California",
              "Colorado",
              "Connecticut",
              "Delaware",
              "District of Columbia",
              "Florida",
              "Georgia",
              "Hawaii",
              "Idaho",
              "Illinois",
              "Indiana",
              "Iowa",
              "Kansas",
              "Kentucky",
              "Louisiana",
              "Maine",
              "Maryland",
              "Massachusetts",
              "Michigan",
              "Minnesota",
              "Mississippi",
              "Missouri",
              "Montana",
              "Nebraska",
              "Nevada",
              "New Hampshire",
              "New Jersey",
              "New Mexico",
              "New York",
              "North Carolina",
              "North Dakota",
              "Ohio",
              "Oklahoma",
              "Oregon",
              "Pennsylvania",
              "Rhode Island",
              "South Carolina",
              "South Dakota",
              "Tennessee",
              "Texas",
              "Utah",
              "Vermont",
              "Virginia",
              "Washington",
              "West Virginia",
              "Wisconsin",
              "Wyoming"
             ],
             "xaxis": "x3",
             "y": [
              23.337,
              14.958,
              7.376,
              18.273999999999997,
              26.238000000000003,
              16.218999999999998,
              1.9170000000000005,
              1.0389999999999997,
              0.64,
              21.358999999999995,
              59.522999999999996,
              3.7,
              7.515,
              13.211000000000004,
              8.506000000000004,
              8.523999999999996,
              16.022000000000006,
              9.827999999999992,
              24.493000000000002,
              0.8970000000000005,
              7.652,
              3.104000000000001,
              9.878000000000002,
              9.623999999999997,
              37.461000000000006,
              10.847999999999992,
              7.518999999999997,
              9.753999999999996,
              4.71,
              0.705,
              7.8870000000000005,
              19.145,
              11.581000000000003,
              31.888999999999996,
              6.568000000000001,
              8.548999999999996,
              22.397,
              6.864000000000001,
              7.87,
              0.7830000000000001,
              19.78,
              13.078999999999997,
              12.89,
              110.34299999999999,
              4.25,
              0.805,
              37.66,
              9.213000000000001,
              3.063000000000002,
              7.721999999999998,
              3.0429999999999997
             ],
             "yaxis": "y3"
            },
            {
             "type": "scatter",
             "x": [
              "Alabama",
              "Alaska",
              "Arizona",
              "Arkansas",
              "California",
              "Colorado",
              "Connecticut",
              "Delaware",
              "District of Columbia",
              "Florida",
              "Georgia",
              "Hawaii",
              "Idaho",
              "Illinois",
              "Indiana",
              "Iowa",
              "Kansas",
              "Kentucky",
              "Louisiana",
              "Maine",
              "Maryland",
              "Massachusetts",
              "Michigan",
              "Minnesota",
              "Mississippi",
              "Missouri",
              "Montana",
              "Nebraska",
              "Nevada",
              "New Hampshire",
              "New Jersey",
              "New Mexico",
              "New York",
              "North Carolina",
              "North Dakota",
              "Ohio",
              "Oklahoma",
              "Oregon",
              "Pennsylvania",
              "Rhode Island",
              "South Carolina",
              "South Dakota",
              "Tennessee",
              "Texas",
              "Utah",
              "Vermont",
              "Virginia",
              "Washington",
              "West Virginia",
              "Wisconsin",
              "Wyoming"
             ],
             "xaxis": "x2",
             "y": [
              1434159,
              185769,
              1661686,
              759625,
              5883885,
              1364202,
              714973,
              200603,
              18172,
              5668731,
              2458378,
              196800,
              554128,
              2789226,
              1729446,
              897467,
              753370,
              1326347,
              1255776,
              341949,
              960681,
              1149302,
              2649537,
              1483750,
              753592,
              1711848,
              343590,
              555509,
              669890,
              365660,
              1817606,
              401825,
              2922544,
              2758775,
              235595,
              3136494,
              1020280,
              953736,
              3368278,
              199830,
              1385103,
              261043,
              1849820,
              5873085,
              865100,
              112704,
              1962571,
              1578705,
              545051,
              1610151,
              193559
             ],
             "yaxis": "y2"
            },
            {
             "type": "scatter",
             "x": [
              "Alabama",
              "Alaska",
              "Arizona",
              "Arkansas",
              "California",
              "Colorado",
              "Connecticut",
              "Delaware",
              "District of Columbia",
              "Florida",
              "Georgia",
              "Hawaii",
              "Idaho",
              "Illinois",
              "Indiana",
              "Iowa",
              "Kansas",
              "Kentucky",
              "Louisiana",
              "Maine",
              "Maryland",
              "Massachusetts",
              "Michigan",
              "Minnesota",
              "Mississippi",
              "Missouri",
              "Montana",
              "Nebraska",
              "Nevada",
              "New Hampshire",
              "New Jersey",
              "New Mexico",
              "New York",
              "North Carolina",
              "North Dakota",
              "Ohio",
              "Oklahoma",
              "Oregon",
              "Pennsylvania",
              "Rhode Island",
              "South Carolina",
              "South Dakota",
              "Tennessee",
              "Texas",
              "Utah",
              "Vermont",
              "Virginia",
              "Washington",
              "West Virginia",
              "Wisconsin",
              "Wyoming"
             ],
             "xaxis": "x",
             "y": [
              843473,
              150262,
              1672143,
              423311,
              10950161,
              1803921,
              1080387,
              296268,
              307265,
              5297045,
              2472434,
              366070,
              287031,
              4159713,
              1241774,
              758881,
              551199,
              772223,
              856034,
              420357,
              1917406,
              2319174,
              2807309,
              1716312,
              532414,
              1242851,
              244783,
              374169,
              703486,
              424937,
              2511560,
              501471,
              3919335,
              2684302,
              114902,
              2670277,
              503890,
              1335028,
              3450696,
              306192,
              1091541,
              150471,
              1139376,
              5235216,
              560267,
              242820,
              2413973,
              2363062,
              235847,
              1630716,
              73491
             ],
             "yaxis": "y"
            }
           ],
           "layout": {
            "annotations": [
             {
              "font": {
               "size": 8
              },
              "showarrow": false,
              "text": "Republican",
              "x": 0.5,
              "xanchor": "center",
              "xref": "paper",
              "y": 1,
              "yanchor": "bottom",
              "yref": "paper"
             },
             {
              "font": {
               "size": 8
              },
              "showarrow": false,
              "text": "Democrat",
              "x": 0.5,
              "xanchor": "center",
              "xref": "paper",
              "y": 0.66,
              "yanchor": "bottom",
              "yref": "paper"
             },
             {
              "font": {
               "size": 8
              },
              "showarrow": false,
              "text": "Diversity",
              "x": 0.5,
              "xanchor": "center",
              "xref": "paper",
              "y": 0.32,
              "yanchor": "bottom",
              "yref": "paper"
             }
            ],
            "height": 400,
            "showlegend": false,
            "template": {
             "data": {
              "bar": [
               {
                "error_x": {
                 "color": "#2a3f5f"
                },
                "error_y": {
                 "color": "#2a3f5f"
                },
                "marker": {
                 "line": {
                  "color": "#E5ECF6",
                  "width": 0.5
                 }
                },
                "type": "bar"
               }
              ],
              "barpolar": [
               {
                "marker": {
                 "line": {
                  "color": "#E5ECF6",
                  "width": 0.5
                 }
                },
                "type": "barpolar"
               }
              ],
              "carpet": [
               {
                "aaxis": {
                 "endlinecolor": "#2a3f5f",
                 "gridcolor": "white",
                 "linecolor": "white",
                 "minorgridcolor": "white",
                 "startlinecolor": "#2a3f5f"
                },
                "baxis": {
                 "endlinecolor": "#2a3f5f",
                 "gridcolor": "white",
                 "linecolor": "white",
                 "minorgridcolor": "white",
                 "startlinecolor": "#2a3f5f"
                },
                "type": "carpet"
               }
              ],
              "choropleth": [
               {
                "colorbar": {
                 "outlinewidth": 0,
                 "ticks": ""
                },
                "type": "choropleth"
               }
              ],
              "contour": [
               {
                "colorbar": {
                 "outlinewidth": 0,
                 "ticks": ""
                },
                "colorscale": [
                 [
                  0,
                  "#0d0887"
                 ],
                 [
                  0.1111111111111111,
                  "#46039f"
                 ],
                 [
                  0.2222222222222222,
                  "#7201a8"
                 ],
                 [
                  0.3333333333333333,
                  "#9c179e"
                 ],
                 [
                  0.4444444444444444,
                  "#bd3786"
                 ],
                 [
                  0.5555555555555556,
                  "#d8576b"
                 ],
                 [
                  0.6666666666666666,
                  "#ed7953"
                 ],
                 [
                  0.7777777777777778,
                  "#fb9f3a"
                 ],
                 [
                  0.8888888888888888,
                  "#fdca26"
                 ],
                 [
                  1,
                  "#f0f921"
                 ]
                ],
                "type": "contour"
               }
              ],
              "contourcarpet": [
               {
                "colorbar": {
                 "outlinewidth": 0,
                 "ticks": ""
                },
                "type": "contourcarpet"
               }
              ],
              "heatmap": [
               {
                "colorbar": {
                 "outlinewidth": 0,
                 "ticks": ""
                },
                "colorscale": [
                 [
                  0,
                  "#0d0887"
                 ],
                 [
                  0.1111111111111111,
                  "#46039f"
                 ],
                 [
                  0.2222222222222222,
                  "#7201a8"
                 ],
                 [
                  0.3333333333333333,
                  "#9c179e"
                 ],
                 [
                  0.4444444444444444,
                  "#bd3786"
                 ],
                 [
                  0.5555555555555556,
                  "#d8576b"
                 ],
                 [
                  0.6666666666666666,
                  "#ed7953"
                 ],
                 [
                  0.7777777777777778,
                  "#fb9f3a"
                 ],
                 [
                  0.8888888888888888,
                  "#fdca26"
                 ],
                 [
                  1,
                  "#f0f921"
                 ]
                ],
                "type": "heatmap"
               }
              ],
              "heatmapgl": [
               {
                "colorbar": {
                 "outlinewidth": 0,
                 "ticks": ""
                },
                "colorscale": [
                 [
                  0,
                  "#0d0887"
                 ],
                 [
                  0.1111111111111111,
                  "#46039f"
                 ],
                 [
                  0.2222222222222222,
                  "#7201a8"
                 ],
                 [
                  0.3333333333333333,
                  "#9c179e"
                 ],
                 [
                  0.4444444444444444,
                  "#bd3786"
                 ],
                 [
                  0.5555555555555556,
                  "#d8576b"
                 ],
                 [
                  0.6666666666666666,
                  "#ed7953"
                 ],
                 [
                  0.7777777777777778,
                  "#fb9f3a"
                 ],
                 [
                  0.8888888888888888,
                  "#fdca26"
                 ],
                 [
                  1,
                  "#f0f921"
                 ]
                ],
                "type": "heatmapgl"
               }
              ],
              "histogram": [
               {
                "marker": {
                 "colorbar": {
                  "outlinewidth": 0,
                  "ticks": ""
                 }
                },
                "type": "histogram"
               }
              ],
              "histogram2d": [
               {
                "colorbar": {
                 "outlinewidth": 0,
                 "ticks": ""
                },
                "colorscale": [
                 [
                  0,
                  "#0d0887"
                 ],
                 [
                  0.1111111111111111,
                  "#46039f"
                 ],
                 [
                  0.2222222222222222,
                  "#7201a8"
                 ],
                 [
                  0.3333333333333333,
                  "#9c179e"
                 ],
                 [
                  0.4444444444444444,
                  "#bd3786"
                 ],
                 [
                  0.5555555555555556,
                  "#d8576b"
                 ],
                 [
                  0.6666666666666666,
                  "#ed7953"
                 ],
                 [
                  0.7777777777777778,
                  "#fb9f3a"
                 ],
                 [
                  0.8888888888888888,
                  "#fdca26"
                 ],
                 [
                  1,
                  "#f0f921"
                 ]
                ],
                "type": "histogram2d"
               }
              ],
              "histogram2dcontour": [
               {
                "colorbar": {
                 "outlinewidth": 0,
                 "ticks": ""
                },
                "colorscale": [
                 [
                  0,
                  "#0d0887"
                 ],
                 [
                  0.1111111111111111,
                  "#46039f"
                 ],
                 [
                  0.2222222222222222,
                  "#7201a8"
                 ],
                 [
                  0.3333333333333333,
                  "#9c179e"
                 ],
                 [
                  0.4444444444444444,
                  "#bd3786"
                 ],
                 [
                  0.5555555555555556,
                  "#d8576b"
                 ],
                 [
                  0.6666666666666666,
                  "#ed7953"
                 ],
                 [
                  0.7777777777777778,
                  "#fb9f3a"
                 ],
                 [
                  0.8888888888888888,
                  "#fdca26"
                 ],
                 [
                  1,
                  "#f0f921"
                 ]
                ],
                "type": "histogram2dcontour"
               }
              ],
              "mesh3d": [
               {
                "colorbar": {
                 "outlinewidth": 0,
                 "ticks": ""
                },
                "type": "mesh3d"
               }
              ],
              "parcoords": [
               {
                "line": {
                 "colorbar": {
                  "outlinewidth": 0,
                  "ticks": ""
                 }
                },
                "type": "parcoords"
               }
              ],
              "pie": [
               {
                "automargin": true,
                "type": "pie"
               }
              ],
              "scatter": [
               {
                "marker": {
                 "colorbar": {
                  "outlinewidth": 0,
                  "ticks": ""
                 }
                },
                "type": "scatter"
               }
              ],
              "scatter3d": [
               {
                "line": {
                 "colorbar": {
                  "outlinewidth": 0,
                  "ticks": ""
                 }
                },
                "marker": {
                 "colorbar": {
                  "outlinewidth": 0,
                  "ticks": ""
                 }
                },
                "type": "scatter3d"
               }
              ],
              "scattercarpet": [
               {
                "marker": {
                 "colorbar": {
                  "outlinewidth": 0,
                  "ticks": ""
                 }
                },
                "type": "scattercarpet"
               }
              ],
              "scattergeo": [
               {
                "marker": {
                 "colorbar": {
                  "outlinewidth": 0,
                  "ticks": ""
                 }
                },
                "type": "scattergeo"
               }
              ],
              "scattergl": [
               {
                "marker": {
                 "colorbar": {
                  "outlinewidth": 0,
                  "ticks": ""
                 }
                },
                "type": "scattergl"
               }
              ],
              "scattermapbox": [
               {
                "marker": {
                 "colorbar": {
                  "outlinewidth": 0,
                  "ticks": ""
                 }
                },
                "type": "scattermapbox"
               }
              ],
              "scatterpolar": [
               {
                "marker": {
                 "colorbar": {
                  "outlinewidth": 0,
                  "ticks": ""
                 }
                },
                "type": "scatterpolar"
               }
              ],
              "scatterpolargl": [
               {
                "marker": {
                 "colorbar": {
                  "outlinewidth": 0,
                  "ticks": ""
                 }
                },
                "type": "scatterpolargl"
               }
              ],
              "scatterternary": [
               {
                "marker": {
                 "colorbar": {
                  "outlinewidth": 0,
                  "ticks": ""
                 }
                },
                "type": "scatterternary"
               }
              ],
              "surface": [
               {
                "colorbar": {
                 "outlinewidth": 0,
                 "ticks": ""
                },
                "colorscale": [
                 [
                  0,
                  "#0d0887"
                 ],
                 [
                  0.1111111111111111,
                  "#46039f"
                 ],
                 [
                  0.2222222222222222,
                  "#7201a8"
                 ],
                 [
                  0.3333333333333333,
                  "#9c179e"
                 ],
                 [
                  0.4444444444444444,
                  "#bd3786"
                 ],
                 [
                  0.5555555555555556,
                  "#d8576b"
                 ],
                 [
                  0.6666666666666666,
                  "#ed7953"
                 ],
                 [
                  0.7777777777777778,
                  "#fb9f3a"
                 ],
                 [
                  0.8888888888888888,
                  "#fdca26"
                 ],
                 [
                  1,
                  "#f0f921"
                 ]
                ],
                "type": "surface"
               }
              ],
              "table": [
               {
                "cells": {
                 "fill": {
                  "color": "#EBF0F8"
                 },
                 "line": {
                  "color": "white"
                 }
                },
                "header": {
                 "fill": {
                  "color": "#C8D4E3"
                 },
                 "line": {
                  "color": "white"
                 }
                },
                "type": "table"
               }
              ]
             },
             "layout": {
              "annotationdefaults": {
               "arrowcolor": "#2a3f5f",
               "arrowhead": 0,
               "arrowwidth": 1
              },
              "coloraxis": {
               "colorbar": {
                "outlinewidth": 0,
                "ticks": ""
               }
              },
              "colorscale": {
               "diverging": [
                [
                 0,
                 "#8e0152"
                ],
                [
                 0.1,
                 "#c51b7d"
                ],
                [
                 0.2,
                 "#de77ae"
                ],
                [
                 0.3,
                 "#f1b6da"
                ],
                [
                 0.4,
                 "#fde0ef"
                ],
                [
                 0.5,
                 "#f7f7f7"
                ],
                [
                 0.6,
                 "#e6f5d0"
                ],
                [
                 0.7,
                 "#b8e186"
                ],
                [
                 0.8,
                 "#7fbc41"
                ],
                [
                 0.9,
                 "#4d9221"
                ],
                [
                 1,
                 "#276419"
                ]
               ],
               "sequential": [
                [
                 0,
                 "#0d0887"
                ],
                [
                 0.1111111111111111,
                 "#46039f"
                ],
                [
                 0.2222222222222222,
                 "#7201a8"
                ],
                [
                 0.3333333333333333,
                 "#9c179e"
                ],
                [
                 0.4444444444444444,
                 "#bd3786"
                ],
                [
                 0.5555555555555556,
                 "#d8576b"
                ],
                [
                 0.6666666666666666,
                 "#ed7953"
                ],
                [
                 0.7777777777777778,
                 "#fb9f3a"
                ],
                [
                 0.8888888888888888,
                 "#fdca26"
                ],
                [
                 1,
                 "#f0f921"
                ]
               ],
               "sequentialminus": [
                [
                 0,
                 "#0d0887"
                ],
                [
                 0.1111111111111111,
                 "#46039f"
                ],
                [
                 0.2222222222222222,
                 "#7201a8"
                ],
                [
                 0.3333333333333333,
                 "#9c179e"
                ],
                [
                 0.4444444444444444,
                 "#bd3786"
                ],
                [
                 0.5555555555555556,
                 "#d8576b"
                ],
                [
                 0.6666666666666666,
                 "#ed7953"
                ],
                [
                 0.7777777777777778,
                 "#fb9f3a"
                ],
                [
                 0.8888888888888888,
                 "#fdca26"
                ],
                [
                 1,
                 "#f0f921"
                ]
               ]
              },
              "colorway": [
               "#636efa",
               "#EF553B",
               "#00cc96",
               "#ab63fa",
               "#FFA15A",
               "#19d3f3",
               "#FF6692",
               "#B6E880",
               "#FF97FF",
               "#FECB52"
              ],
              "font": {
               "color": "#2a3f5f"
              },
              "geo": {
               "bgcolor": "white",
               "lakecolor": "white",
               "landcolor": "#E5ECF6",
               "showlakes": true,
               "showland": true,
               "subunitcolor": "white"
              },
              "hoverlabel": {
               "align": "left"
              },
              "hovermode": "closest",
              "mapbox": {
               "style": "light"
              },
              "paper_bgcolor": "white",
              "plot_bgcolor": "#E5ECF6",
              "polar": {
               "angularaxis": {
                "gridcolor": "white",
                "linecolor": "white",
                "ticks": ""
               },
               "bgcolor": "#E5ECF6",
               "radialaxis": {
                "gridcolor": "white",
                "linecolor": "white",
                "ticks": ""
               }
              },
              "scene": {
               "xaxis": {
                "backgroundcolor": "#E5ECF6",
                "gridcolor": "white",
                "gridwidth": 2,
                "linecolor": "white",
                "showbackground": true,
                "ticks": "",
                "zerolinecolor": "white"
               },
               "yaxis": {
                "backgroundcolor": "#E5ECF6",
                "gridcolor": "white",
                "gridwidth": 2,
                "linecolor": "white",
                "showbackground": true,
                "ticks": "",
                "zerolinecolor": "white"
               },
               "zaxis": {
                "backgroundcolor": "#E5ECF6",
                "gridcolor": "white",
                "gridwidth": 2,
                "linecolor": "white",
                "showbackground": true,
                "ticks": "",
                "zerolinecolor": "white"
               }
              },
              "shapedefaults": {
               "line": {
                "color": "#2a3f5f"
               }
              },
              "ternary": {
               "aaxis": {
                "gridcolor": "white",
                "linecolor": "white",
                "ticks": ""
               },
               "baxis": {
                "gridcolor": "white",
                "linecolor": "white",
                "ticks": ""
               },
               "bgcolor": "#E5ECF6",
               "caxis": {
                "gridcolor": "white",
                "linecolor": "white",
                "ticks": ""
               }
              },
              "title": {
               "x": 0.05
              },
              "xaxis": {
               "automargin": true,
               "gridcolor": "white",
               "linecolor": "white",
               "ticks": "",
               "title": {
                "standoff": 15
               },
               "zerolinecolor": "white",
               "zerolinewidth": 2
              },
              "yaxis": {
               "automargin": true,
               "gridcolor": "white",
               "linecolor": "white",
               "ticks": "",
               "title": {
                "standoff": 15
               },
               "zerolinecolor": "white",
               "zerolinewidth": 2
              }
             }
            },
            "title": {
             "text": "Racial Diversity-Vote Comparison for President election"
            },
            "width": 600,
            "xaxis": {
             "anchor": "y",
             "domain": [
              0,
              1
             ],
             "matches": "x3",
             "showticklabels": false
            },
            "xaxis2": {
             "anchor": "y2",
             "domain": [
              0,
              1
             ],
             "matches": "x3",
             "showticklabels": false
            },
            "xaxis3": {
             "anchor": "y3",
             "domain": [
              0,
              1
             ]
            },
            "yaxis": {
             "anchor": "x",
             "domain": [
              0.68,
              1
             ]
            },
            "yaxis2": {
             "anchor": "x2",
             "domain": [
              0.34,
              0.66
             ]
            },
            "yaxis3": {
             "anchor": "x3",
             "domain": [
              0,
              0.32
             ]
            }
           }
          },
          "text/html": "<div>                            <div id=\"e0a85118-15f2-47bb-9e2d-3a144fab5d0e\" class=\"plotly-graph-div\" style=\"height:400px; width:600px;\"></div>            <script type=\"text/javascript\">                require([\"plotly\"], function(Plotly) {                    window.PLOTLYENV=window.PLOTLYENV || {};                                    if (document.getElementById(\"e0a85118-15f2-47bb-9e2d-3a144fab5d0e\")) {                    Plotly.newPlot(                        \"e0a85118-15f2-47bb-9e2d-3a144fab5d0e\",                        [{\"type\": \"scatter\", \"x\": [\"Alabama\", \"Alaska\", \"Arizona\", \"Arkansas\", \"California\", \"Colorado\", \"Connecticut\", \"Delaware\", \"District of Columbia\", \"Florida\", \"Georgia\", \"Hawaii\", \"Idaho\", \"Illinois\", \"Indiana\", \"Iowa\", \"Kansas\", \"Kentucky\", \"Louisiana\", \"Maine\", \"Maryland\", \"Massachusetts\", \"Michigan\", \"Minnesota\", \"Mississippi\", \"Missouri\", \"Montana\", \"Nebraska\", \"Nevada\", \"New Hampshire\", \"New Jersey\", \"New Mexico\", \"New York\", \"North Carolina\", \"North Dakota\", \"Ohio\", \"Oklahoma\", \"Oregon\", \"Pennsylvania\", \"Rhode Island\", \"South Carolina\", \"South Dakota\", \"Tennessee\", \"Texas\", \"Utah\", \"Vermont\", \"Virginia\", \"Washington\", \"West Virginia\", \"Wisconsin\", \"Wyoming\"], \"xaxis\": \"x3\", \"y\": [23.337, 14.958, 7.376, 18.273999999999997, 26.238000000000003, 16.218999999999998, 1.9170000000000005, 1.0389999999999997, 0.64, 21.358999999999995, 59.522999999999996, 3.7, 7.515, 13.211000000000004, 8.506000000000004, 8.523999999999996, 16.022000000000006, 9.827999999999992, 24.493000000000002, 0.8970000000000005, 7.652, 3.104000000000001, 9.878000000000002, 9.623999999999997, 37.461000000000006, 10.847999999999992, 7.518999999999997, 9.753999999999996, 4.71, 0.705, 7.8870000000000005, 19.145, 11.581000000000003, 31.888999999999996, 6.568000000000001, 8.548999999999996, 22.397, 6.864000000000001, 7.87, 0.7830000000000001, 19.78, 13.078999999999997, 12.89, 110.34299999999999, 4.25, 0.805, 37.66, 9.213000000000001, 3.063000000000002, 7.721999999999998, 3.0429999999999997], \"yaxis\": \"y3\"}, {\"type\": \"scatter\", \"x\": [\"Alabama\", \"Alaska\", \"Arizona\", \"Arkansas\", \"California\", \"Colorado\", \"Connecticut\", \"Delaware\", \"District of Columbia\", \"Florida\", \"Georgia\", \"Hawaii\", \"Idaho\", \"Illinois\", \"Indiana\", \"Iowa\", \"Kansas\", \"Kentucky\", \"Louisiana\", \"Maine\", \"Maryland\", \"Massachusetts\", \"Michigan\", \"Minnesota\", \"Mississippi\", \"Missouri\", \"Montana\", \"Nebraska\", \"Nevada\", \"New Hampshire\", \"New Jersey\", \"New Mexico\", \"New York\", \"North Carolina\", \"North Dakota\", \"Ohio\", \"Oklahoma\", \"Oregon\", \"Pennsylvania\", \"Rhode Island\", \"South Carolina\", \"South Dakota\", \"Tennessee\", \"Texas\", \"Utah\", \"Vermont\", \"Virginia\", \"Washington\", \"West Virginia\", \"Wisconsin\", \"Wyoming\"], \"xaxis\": \"x2\", \"y\": [1434159, 185769, 1661686, 759625, 5883885, 1364202, 714973, 200603, 18172, 5668731, 2458378, 196800, 554128, 2789226, 1729446, 897467, 753370, 1326347, 1255776, 341949, 960681, 1149302, 2649537, 1483750, 753592, 1711848, 343590, 555509, 669890, 365660, 1817606, 401825, 2922544, 2758775, 235595, 3136494, 1020280, 953736, 3368278, 199830, 1385103, 261043, 1849820, 5873085, 865100, 112704, 1962571, 1578705, 545051, 1610151, 193559], \"yaxis\": \"y2\"}, {\"type\": \"scatter\", \"x\": [\"Alabama\", \"Alaska\", \"Arizona\", \"Arkansas\", \"California\", \"Colorado\", \"Connecticut\", \"Delaware\", \"District of Columbia\", \"Florida\", \"Georgia\", \"Hawaii\", \"Idaho\", \"Illinois\", \"Indiana\", \"Iowa\", \"Kansas\", \"Kentucky\", \"Louisiana\", \"Maine\", \"Maryland\", \"Massachusetts\", \"Michigan\", \"Minnesota\", \"Mississippi\", \"Missouri\", \"Montana\", \"Nebraska\", \"Nevada\", \"New Hampshire\", \"New Jersey\", \"New Mexico\", \"New York\", \"North Carolina\", \"North Dakota\", \"Ohio\", \"Oklahoma\", \"Oregon\", \"Pennsylvania\", \"Rhode Island\", \"South Carolina\", \"South Dakota\", \"Tennessee\", \"Texas\", \"Utah\", \"Vermont\", \"Virginia\", \"Washington\", \"West Virginia\", \"Wisconsin\", \"Wyoming\"], \"xaxis\": \"x\", \"y\": [843473, 150262, 1672143, 423311, 10950161, 1803921, 1080387, 296268, 307265, 5297045, 2472434, 366070, 287031, 4159713, 1241774, 758881, 551199, 772223, 856034, 420357, 1917406, 2319174, 2807309, 1716312, 532414, 1242851, 244783, 374169, 703486, 424937, 2511560, 501471, 3919335, 2684302, 114902, 2670277, 503890, 1335028, 3450696, 306192, 1091541, 150471, 1139376, 5235216, 560267, 242820, 2413973, 2363062, 235847, 1630716, 73491], \"yaxis\": \"y\"}],                        {\"annotations\": [{\"font\": {\"size\": 8}, \"showarrow\": false, \"text\": \"Republican\", \"x\": 0.5, \"xanchor\": \"center\", \"xref\": \"paper\", \"y\": 1.0, \"yanchor\": \"bottom\", \"yref\": \"paper\"}, {\"font\": {\"size\": 8}, \"showarrow\": false, \"text\": \"Democrat\", \"x\": 0.5, \"xanchor\": \"center\", \"xref\": \"paper\", \"y\": 0.66, \"yanchor\": \"bottom\", \"yref\": \"paper\"}, {\"font\": {\"size\": 8}, \"showarrow\": false, \"text\": \"Diversity\", \"x\": 0.5, \"xanchor\": \"center\", \"xref\": \"paper\", \"y\": 0.32, \"yanchor\": \"bottom\", \"yref\": \"paper\"}], \"height\": 400, \"showlegend\": false, \"template\": {\"data\": {\"bar\": [{\"error_x\": {\"color\": \"#2a3f5f\"}, \"error_y\": {\"color\": \"#2a3f5f\"}, \"marker\": {\"line\": {\"color\": \"#E5ECF6\", \"width\": 0.5}}, \"type\": \"bar\"}], \"barpolar\": [{\"marker\": {\"line\": {\"color\": \"#E5ECF6\", \"width\": 0.5}}, \"type\": \"barpolar\"}], \"carpet\": [{\"aaxis\": {\"endlinecolor\": \"#2a3f5f\", \"gridcolor\": \"white\", \"linecolor\": \"white\", \"minorgridcolor\": \"white\", \"startlinecolor\": \"#2a3f5f\"}, \"baxis\": {\"endlinecolor\": \"#2a3f5f\", \"gridcolor\": \"white\", \"linecolor\": \"white\", \"minorgridcolor\": \"white\", \"startlinecolor\": \"#2a3f5f\"}, \"type\": \"carpet\"}], \"choropleth\": [{\"colorbar\": {\"outlinewidth\": 0, \"ticks\": \"\"}, \"type\": \"choropleth\"}], \"contour\": [{\"colorbar\": {\"outlinewidth\": 0, \"ticks\": \"\"}, \"colorscale\": [[0.0, \"#0d0887\"], [0.1111111111111111, \"#46039f\"], [0.2222222222222222, \"#7201a8\"], [0.3333333333333333, \"#9c179e\"], [0.4444444444444444, \"#bd3786\"], [0.5555555555555556, \"#d8576b\"], [0.6666666666666666, \"#ed7953\"], [0.7777777777777778, \"#fb9f3a\"], [0.8888888888888888, \"#fdca26\"], [1.0, \"#f0f921\"]], \"type\": \"contour\"}], \"contourcarpet\": [{\"colorbar\": {\"outlinewidth\": 0, \"ticks\": \"\"}, \"type\": \"contourcarpet\"}], \"heatmap\": [{\"colorbar\": {\"outlinewidth\": 0, \"ticks\": \"\"}, \"colorscale\": [[0.0, \"#0d0887\"], [0.1111111111111111, \"#46039f\"], [0.2222222222222222, \"#7201a8\"], [0.3333333333333333, \"#9c179e\"], [0.4444444444444444, \"#bd3786\"], [0.5555555555555556, \"#d8576b\"], [0.6666666666666666, \"#ed7953\"], [0.7777777777777778, \"#fb9f3a\"], [0.8888888888888888, \"#fdca26\"], [1.0, \"#f0f921\"]], \"type\": \"heatmap\"}], \"heatmapgl\": [{\"colorbar\": {\"outlinewidth\": 0, \"ticks\": \"\"}, \"colorscale\": [[0.0, \"#0d0887\"], [0.1111111111111111, \"#46039f\"], [0.2222222222222222, \"#7201a8\"], [0.3333333333333333, \"#9c179e\"], [0.4444444444444444, \"#bd3786\"], [0.5555555555555556, \"#d8576b\"], [0.6666666666666666, \"#ed7953\"], [0.7777777777777778, \"#fb9f3a\"], [0.8888888888888888, \"#fdca26\"], [1.0, \"#f0f921\"]], \"type\": \"heatmapgl\"}], \"histogram\": [{\"marker\": {\"colorbar\": {\"outlinewidth\": 0, \"ticks\": \"\"}}, \"type\": \"histogram\"}], \"histogram2d\": [{\"colorbar\": {\"outlinewidth\": 0, \"ticks\": \"\"}, \"colorscale\": [[0.0, \"#0d0887\"], [0.1111111111111111, \"#46039f\"], [0.2222222222222222, \"#7201a8\"], [0.3333333333333333, \"#9c179e\"], [0.4444444444444444, \"#bd3786\"], [0.5555555555555556, \"#d8576b\"], [0.6666666666666666, \"#ed7953\"], [0.7777777777777778, \"#fb9f3a\"], [0.8888888888888888, \"#fdca26\"], [1.0, \"#f0f921\"]], \"type\": \"histogram2d\"}], \"histogram2dcontour\": [{\"colorbar\": {\"outlinewidth\": 0, \"ticks\": \"\"}, \"colorscale\": [[0.0, \"#0d0887\"], [0.1111111111111111, \"#46039f\"], [0.2222222222222222, \"#7201a8\"], [0.3333333333333333, \"#9c179e\"], [0.4444444444444444, \"#bd3786\"], [0.5555555555555556, \"#d8576b\"], [0.6666666666666666, \"#ed7953\"], [0.7777777777777778, \"#fb9f3a\"], [0.8888888888888888, \"#fdca26\"], [1.0, \"#f0f921\"]], \"type\": \"histogram2dcontour\"}], \"mesh3d\": [{\"colorbar\": {\"outlinewidth\": 0, \"ticks\": \"\"}, \"type\": \"mesh3d\"}], \"parcoords\": [{\"line\": {\"colorbar\": {\"outlinewidth\": 0, \"ticks\": \"\"}}, \"type\": \"parcoords\"}], \"pie\": [{\"automargin\": true, \"type\": \"pie\"}], \"scatter\": [{\"marker\": {\"colorbar\": {\"outlinewidth\": 0, \"ticks\": \"\"}}, \"type\": \"scatter\"}], \"scatter3d\": [{\"line\": {\"colorbar\": {\"outlinewidth\": 0, \"ticks\": \"\"}}, \"marker\": {\"colorbar\": {\"outlinewidth\": 0, \"ticks\": \"\"}}, \"type\": \"scatter3d\"}], \"scattercarpet\": [{\"marker\": {\"colorbar\": {\"outlinewidth\": 0, \"ticks\": \"\"}}, \"type\": \"scattercarpet\"}], \"scattergeo\": [{\"marker\": {\"colorbar\": {\"outlinewidth\": 0, \"ticks\": \"\"}}, \"type\": \"scattergeo\"}], \"scattergl\": [{\"marker\": {\"colorbar\": {\"outlinewidth\": 0, \"ticks\": \"\"}}, \"type\": \"scattergl\"}], \"scattermapbox\": [{\"marker\": {\"colorbar\": {\"outlinewidth\": 0, \"ticks\": \"\"}}, \"type\": \"scattermapbox\"}], \"scatterpolar\": [{\"marker\": {\"colorbar\": {\"outlinewidth\": 0, \"ticks\": \"\"}}, \"type\": \"scatterpolar\"}], \"scatterpolargl\": [{\"marker\": {\"colorbar\": {\"outlinewidth\": 0, \"ticks\": \"\"}}, \"type\": \"scatterpolargl\"}], \"scatterternary\": [{\"marker\": {\"colorbar\": {\"outlinewidth\": 0, \"ticks\": \"\"}}, \"type\": \"scatterternary\"}], \"surface\": [{\"colorbar\": {\"outlinewidth\": 0, \"ticks\": \"\"}, \"colorscale\": [[0.0, \"#0d0887\"], [0.1111111111111111, \"#46039f\"], [0.2222222222222222, \"#7201a8\"], [0.3333333333333333, \"#9c179e\"], [0.4444444444444444, \"#bd3786\"], [0.5555555555555556, \"#d8576b\"], [0.6666666666666666, \"#ed7953\"], [0.7777777777777778, \"#fb9f3a\"], [0.8888888888888888, \"#fdca26\"], [1.0, \"#f0f921\"]], \"type\": \"surface\"}], \"table\": [{\"cells\": {\"fill\": {\"color\": \"#EBF0F8\"}, \"line\": {\"color\": \"white\"}}, \"header\": {\"fill\": {\"color\": \"#C8D4E3\"}, \"line\": {\"color\": \"white\"}}, \"type\": \"table\"}]}, \"layout\": {\"annotationdefaults\": {\"arrowcolor\": \"#2a3f5f\", \"arrowhead\": 0, \"arrowwidth\": 1}, \"coloraxis\": {\"colorbar\": {\"outlinewidth\": 0, \"ticks\": \"\"}}, \"colorscale\": {\"diverging\": [[0, \"#8e0152\"], [0.1, \"#c51b7d\"], [0.2, \"#de77ae\"], [0.3, \"#f1b6da\"], [0.4, \"#fde0ef\"], [0.5, \"#f7f7f7\"], [0.6, \"#e6f5d0\"], [0.7, \"#b8e186\"], [0.8, \"#7fbc41\"], [0.9, \"#4d9221\"], [1, \"#276419\"]], \"sequential\": [[0.0, \"#0d0887\"], [0.1111111111111111, \"#46039f\"], [0.2222222222222222, \"#7201a8\"], [0.3333333333333333, \"#9c179e\"], [0.4444444444444444, \"#bd3786\"], [0.5555555555555556, \"#d8576b\"], [0.6666666666666666, \"#ed7953\"], [0.7777777777777778, \"#fb9f3a\"], [0.8888888888888888, \"#fdca26\"], [1.0, \"#f0f921\"]], \"sequentialminus\": [[0.0, \"#0d0887\"], [0.1111111111111111, \"#46039f\"], [0.2222222222222222, \"#7201a8\"], [0.3333333333333333, \"#9c179e\"], [0.4444444444444444, \"#bd3786\"], [0.5555555555555556, \"#d8576b\"], [0.6666666666666666, \"#ed7953\"], [0.7777777777777778, \"#fb9f3a\"], [0.8888888888888888, \"#fdca26\"], [1.0, \"#f0f921\"]]}, \"colorway\": [\"#636efa\", \"#EF553B\", \"#00cc96\", \"#ab63fa\", \"#FFA15A\", \"#19d3f3\", \"#FF6692\", \"#B6E880\", \"#FF97FF\", \"#FECB52\"], \"font\": {\"color\": \"#2a3f5f\"}, \"geo\": {\"bgcolor\": \"white\", \"lakecolor\": \"white\", \"landcolor\": \"#E5ECF6\", \"showlakes\": true, \"showland\": true, \"subunitcolor\": \"white\"}, \"hoverlabel\": {\"align\": \"left\"}, \"hovermode\": \"closest\", \"mapbox\": {\"style\": \"light\"}, \"paper_bgcolor\": \"white\", \"plot_bgcolor\": \"#E5ECF6\", \"polar\": {\"angularaxis\": {\"gridcolor\": \"white\", \"linecolor\": \"white\", \"ticks\": \"\"}, \"bgcolor\": \"#E5ECF6\", \"radialaxis\": {\"gridcolor\": \"white\", \"linecolor\": \"white\", \"ticks\": \"\"}}, \"scene\": {\"xaxis\": {\"backgroundcolor\": \"#E5ECF6\", \"gridcolor\": \"white\", \"gridwidth\": 2, \"linecolor\": \"white\", \"showbackground\": true, \"ticks\": \"\", \"zerolinecolor\": \"white\"}, \"yaxis\": {\"backgroundcolor\": \"#E5ECF6\", \"gridcolor\": \"white\", \"gridwidth\": 2, \"linecolor\": \"white\", \"showbackground\": true, \"ticks\": \"\", \"zerolinecolor\": \"white\"}, \"zaxis\": {\"backgroundcolor\": \"#E5ECF6\", \"gridcolor\": \"white\", \"gridwidth\": 2, \"linecolor\": \"white\", \"showbackground\": true, \"ticks\": \"\", \"zerolinecolor\": \"white\"}}, \"shapedefaults\": {\"line\": {\"color\": \"#2a3f5f\"}}, \"ternary\": {\"aaxis\": {\"gridcolor\": \"white\", \"linecolor\": \"white\", \"ticks\": \"\"}, \"baxis\": {\"gridcolor\": \"white\", \"linecolor\": \"white\", \"ticks\": \"\"}, \"bgcolor\": \"#E5ECF6\", \"caxis\": {\"gridcolor\": \"white\", \"linecolor\": \"white\", \"ticks\": \"\"}}, \"title\": {\"x\": 0.05}, \"xaxis\": {\"automargin\": true, \"gridcolor\": \"white\", \"linecolor\": \"white\", \"ticks\": \"\", \"title\": {\"standoff\": 15}, \"zerolinecolor\": \"white\", \"zerolinewidth\": 2}, \"yaxis\": {\"automargin\": true, \"gridcolor\": \"white\", \"linecolor\": \"white\", \"ticks\": \"\", \"title\": {\"standoff\": 15}, \"zerolinecolor\": \"white\", \"zerolinewidth\": 2}}}, \"title\": {\"text\": \"Racial Diversity-Vote Comparison for President election\"}, \"width\": 600, \"xaxis\": {\"anchor\": \"y\", \"domain\": [0.0, 1.0], \"matches\": \"x3\", \"showticklabels\": false}, \"xaxis2\": {\"anchor\": \"y2\", \"domain\": [0.0, 1.0], \"matches\": \"x3\", \"showticklabels\": false}, \"xaxis3\": {\"anchor\": \"y3\", \"domain\": [0.0, 1.0]}, \"yaxis\": {\"anchor\": \"x\", \"domain\": [0.68, 1.0]}, \"yaxis2\": {\"anchor\": \"x2\", \"domain\": [0.34, 0.66]}, \"yaxis3\": {\"anchor\": \"x3\", \"domain\": [0.0, 0.32]}},                        {\"responsive\": true}                    ).then(function(){\n                            \nvar gd = document.getElementById('e0a85118-15f2-47bb-9e2d-3a144fab5d0e');\nvar x = new MutationObserver(function (mutations, observer) {{\n        var display = window.getComputedStyle(gd).display;\n        if (!display || display === 'none') {{\n            console.log([gd, 'removed!']);\n            Plotly.purge(gd);\n            observer.disconnect();\n        }}\n}});\n\n// Listen for the removal of the full notebook cells\nvar notebookContainer = gd.closest('#notebook-container');\nif (notebookContainer) {{\n    x.observe(notebookContainer, {childList: true});\n}}\n\n// Listen for the clearing of the current output cell\nvar outputEl = gd.closest('.output');\nif (outputEl) {{\n    x.observe(outputEl, {childList: true});\n}}\n\n                        })                };                });            </script>        </div>"
         },
         "metadata": {},
         "output_type": "display_data"
        }
       ]
      }
     },
     "c91c858a78a8477fa99a9553a33b99a5": {
      "model_module": "@jupyter-widgets/base",
      "model_module_version": "1.2.0",
      "model_name": "LayoutModel",
      "state": {
       "flex_flow": "row wrap"
      }
     },
     "cf38f19cfeff4ee8a07ce66fa3044bb3": {
      "model_module": "@jupyter-widgets/base",
      "model_module_version": "1.2.0",
      "model_name": "LayoutModel",
      "state": {}
     },
     "cfeeaeae105943f49c334acd8c4b51d3": {
      "model_module": "@jupyter-widgets/controls",
      "model_module_version": "1.5.0",
      "model_name": "DescriptionStyleModel",
      "state": {
       "description_width": ""
      }
     },
     "d1d85f7a2b374b749c9566707c16864c": {
      "model_module": "@jupyter-widgets/base",
      "model_module_version": "1.2.0",
      "model_name": "LayoutModel",
      "state": {}
     },
     "d24612c05fce4237b7c5f198cc949e7d": {
      "model_module": "@jupyter-widgets/controls",
      "model_module_version": "1.5.0",
      "model_name": "HBoxModel",
      "state": {
       "children": [
        "IPY_MODEL_5e235a44c165455da0eb652cc53599b3",
        "IPY_MODEL_d97904f3118b420a9f221fe9b6dbb5e4",
        "IPY_MODEL_7d336ee82c604b28936a94bd15a05c9f"
       ],
       "layout": "IPY_MODEL_4699f924eac04782859e753d7c2854d6"
      }
     },
     "d94e4633a0fd4a6d90afddf6be6aea74": {
      "model_module": "@jupyter-widgets/controls",
      "model_module_version": "1.5.0",
      "model_name": "VBoxModel",
      "state": {
       "_dom_classes": [
        "widget-interact"
       ],
       "children": [
        "IPY_MODEL_5e235a44c165455da0eb652cc53599b3",
        "IPY_MODEL_d97904f3118b420a9f221fe9b6dbb5e4",
        "IPY_MODEL_7d336ee82c604b28936a94bd15a05c9f",
        "IPY_MODEL_865b5ea31b1c463fa0c3b09df455e051"
       ],
       "layout": "IPY_MODEL_9046ba2570e84003967f25572b736746"
      }
     },
     "d97904f3118b420a9f221fe9b6dbb5e4": {
      "model_module": "@jupyter-widgets/controls",
      "model_module_version": "1.5.0",
      "model_name": "DropdownModel",
      "state": {
       "_options_labels": [
        "Select",
        "All",
        "Alabama",
        "Alaska",
        "Arizona",
        "Arkansas",
        "California",
        "Colorado",
        "Connecticut",
        "Delaware",
        "District of Columbia",
        "Florida",
        "Georgia",
        "Hawaii",
        "Idaho",
        "Illinois",
        "Indiana",
        "Iowa",
        "Kansas",
        "Kentucky",
        "Louisiana",
        "Maine",
        "Maryland",
        "Massachusetts",
        "Michigan",
        "Minnesota",
        "Mississippi",
        "Missouri",
        "Montana",
        "Nebraska",
        "Nevada",
        "New Hampshire",
        "New Jersey",
        "New Mexico",
        "New York",
        "North Carolina",
        "North Dakota",
        "Ohio",
        "Oklahoma",
        "Oregon",
        "Pennsylvania",
        "Rhode Island",
        "South Carolina",
        "South Dakota",
        "Tennessee",
        "Texas",
        "Utah",
        "Vermont",
        "Virginia",
        "Washington",
        "West Virginia",
        "Wisconsin",
        "Wyoming"
       ],
       "description": "State",
       "index": 1,
       "layout": "IPY_MODEL_1e765f93c9f14eeeac5b3c282bf7a023",
       "style": "IPY_MODEL_e51f9f7c68ea407b9e7103c4a372708c"
      }
     },
     "de68089c66e94340a83d5c7d3e960486": {
      "model_module": "@jupyter-widgets/base",
      "model_module_version": "1.2.0",
      "model_name": "LayoutModel",
      "state": {}
     },
     "e51f9f7c68ea407b9e7103c4a372708c": {
      "model_module": "@jupyter-widgets/controls",
      "model_module_version": "1.5.0",
      "model_name": "DescriptionStyleModel",
      "state": {
       "description_width": ""
      }
     },
     "f7d9c2ff736448caa3c6291c71955599": {
      "model_module": "@jupyter-widgets/controls",
      "model_module_version": "1.5.0",
      "model_name": "HBoxModel",
      "state": {
       "children": [
        "IPY_MODEL_8253f24b43f948dc82931a240d82c363",
        "IPY_MODEL_3fb72004bfed42e5aabfbdcf216914c5",
        "IPY_MODEL_9a42cecaeb3c46f2b6ceee8b73f3cd18"
       ],
       "layout": "IPY_MODEL_c91c858a78a8477fa99a9553a33b99a5"
      }
     },
     "f8ce2009edab4285801674a224ac42ee": {
      "model_module": "@jupyter-widgets/base",
      "model_module_version": "1.2.0",
      "model_name": "LayoutModel",
      "state": {}
     }
    },
    "version_major": 2,
    "version_minor": 0
   }
  }
 },
 "nbformat": 4,
 "nbformat_minor": 4
}
